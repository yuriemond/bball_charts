{
 "metadata": {
  "language_info": {
   "codemirror_mode": {
    "name": "ipython",
    "version": 3
   },
   "file_extension": ".py",
   "mimetype": "text/x-python",
   "name": "python",
   "nbconvert_exporter": "python",
   "pygments_lexer": "ipython3",
   "version": "3.8.3-final"
  },
  "orig_nbformat": 2,
  "kernelspec": {
   "name": "python3",
   "display_name": "Python 3",
   "language": "python"
  }
 },
 "nbformat": 4,
 "nbformat_minor": 2,
 "cells": [
  {
   "cell_type": "code",
   "execution_count": 49,
   "metadata": {},
   "outputs": [],
   "source": [
    "# import packages\n",
    "from nba_api.stats.endpoints import shotchartdetail\n",
    "import json \n",
    "import requests\n",
    "import pandas as pd \n",
    "import matplotlib as mpl \n",
    "import matplotlib.pyplot as plt \n",
    "import datetime\n",
    "import plotly.express as px \n",
    "import plotly.graph_objs as go\n",
    "import plotly.graph_objs as go \n",
    "from plotly.offline import init_notebook_mode, iplot\n",
    "init_notebook_mode()"
   ]
  },
  {
   "cell_type": "code",
   "execution_count": 104,
   "metadata": {},
   "outputs": [
    {
     "output_type": "execute_result",
     "data": {
      "text/plain": [
       "1626162"
      ]
     },
     "metadata": {},
     "execution_count": 104
    }
   ],
   "source": [
    "#Load data \n",
    "\n",
    "#Load teams file into a df from our json file\n",
    "#teams = json.loads(requests.get('https://raw.githubusercontent.com/bttmly/nba/master/data/teams.json').text)\n",
    "teams = pd.read_json('data/teams.json')\n",
    "\n",
    "players = pd.read_json('data/players.json')\n",
    "\n",
    "\n",
    "\n",
    "#players['playerId'][players['firstName'] == 'Kelly' ].iloc[0]\n",
    "\n",
    "\n",
    "players['playerId'][(players['firstName'] == 'Kelly') & (players['lastName'] == 'Oubre Jr.')].iloc[0]\n"
   ]
  },
  {
   "cell_type": "code",
   "execution_count": 38,
   "metadata": {},
   "outputs": [
    {
     "output_type": "stream",
     "name": "stdout",
     "text": [
      "1610612738\n"
     ]
    }
   ],
   "source": [
    "#get the team id based on team name \n",
    "\n",
    "def get_team_id(team):\n",
    "    return teams['teamId'][teams['teamName'] == team].iloc[0]\n",
    "\n",
    "#get the player id \n",
    "def get_player_id(first, last):\n",
    "    return players['playerId'][(players['firstName'] == first) & (players['lastName'] == last)].iloc[0]\n",
    "\n",
    "\n",
    "print(get_team_id(\"Boston Celtics\"))"
   ]
  },
  {
   "cell_type": "code",
   "execution_count": 105,
   "metadata": {
    "tags": [
     "outputPrepend"
    ]
   },
   "outputs": [
    {
     "output_type": "stream",
     "name": "stdout",
     "text": [
      "210103', 'GSW', 'POR'], ['Shot Chart Detail', '0022000092', 82, 1626162, 'Kelly Oubre Jr.', 1610612744, 'Golden State Warriors', 1, 5, 35, 'Missed Shot', 'Pullup Jump shot', '2PT Field Goal', 'Mid-Range', 'Center(C)', '16-24 ft.', 18, 37, 184, 1, 0, '20210103', 'GSW', 'POR'], ['Shot Chart Detail', '0022000092', 86, 1626162, 'Kelly Oubre Jr.', 1610612744, 'Golden State Warriors', 1, 5, 20, 'Made Shot', 'Running Dunk Shot', '2PT Field Goal', 'In The Paint (Non-RA)', 'Center(C)', 'Less Than 8 ft.', 4, 2, 43, 1, 1, '20210103', 'GSW', 'POR'], ['Shot Chart Detail', '0022000092', 324, 1626162, 'Kelly Oubre Jr.', 1610612744, 'Golden State Warriors', 2, 2, 38, 'Missed Shot', 'Jump Shot', '3PT Field Goal', 'Above the Break 3', 'Left Side Center(LC)', '24+ ft.', 27, -133, 239, 1, 0, '20210103', 'GSW', 'POR'], ['Shot Chart Detail', '0022000092', 336, 1626162, 'Kelly Oubre Jr.', 1610612744, 'Golden State Warriors', 2, 1, 58, 'Made Shot', 'Running Dunk Shot', '2PT Field Goal', 'Restricted Area', 'Center(C)', 'Less Than 8 ft.', 2, 15, 20, 1, 1, '20210103', 'GSW', 'POR'], ['Shot Chart Detail', '0022000092', 390, 1626162, 'Kelly Oubre Jr.', 1610612744, 'Golden State Warriors', 3, 10, 12, 'Missed Shot', 'Jump Shot', '2PT Field Goal', 'In The Paint (Non-RA)', 'Center(C)', 'Less Than 8 ft.', 5, 2, 51, 1, 0, '20210103', 'GSW', 'POR'], ['Shot Chart Detail', '0022000092', 426, 1626162, 'Kelly Oubre Jr.', 1610612744, 'Golden State Warriors', 3, 7, 14, 'Missed Shot', 'Jump Shot', '3PT Field Goal', 'Above the Break 3', 'Right Side Center(RC)', '24+ ft.', 25, 224, 115, 1, 0, '20210103', 'GSW', 'POR'], ['Shot Chart Detail', '0022000092', 458, 1626162, 'Kelly Oubre Jr.', 1610612744, 'Golden State Warriors', 3, 5, 25, 'Made Shot', 'Driving Dunk Shot', '2PT Field Goal', 'Restricted Area', 'Center(C)', 'Less Than 8 ft.', 1, -3, 10, 1, 1, '20210103', 'GSW', 'POR'], ['Shot Chart Detail', '0022000092', 468, 1626162, 'Kelly Oubre Jr.', 1610612744, 'Golden State Warriors', 3, 4, 18, 'Made Shot', 'Jump Shot', '3PT Field Goal', 'Right Corner 3', 'Right Side(R)', '24+ ft.', 23, 231, 48, 1, 1, '20210103', 'GSW', 'POR'], ['Shot Chart Detail', '0022000092', 482, 1626162, 'Kelly Oubre Jr.', 1610612744, 'Golden State Warriors', 3, 3, 36, 'Made Shot', 'Tip Dunk Shot', '2PT Field Goal', 'Restricted Area', 'Center(C)', 'Less Than 8 ft.', 0, 0, 0, 1, 1, '20210103', 'GSW', 'POR'], ['Shot Chart Detail', '0022000092', 501, 1626162, 'Kelly Oubre Jr.', 1610612744, 'Golden State Warriors', 3, 1, 43, 'Missed Shot', 'Jump Shot', '3PT Field Goal', 'Above the Break 3', 'Right Side Center(RC)', '24+ ft.', 30, 155, 262, 1, 0, '20210103', 'GSW', 'POR'], ['Shot Chart Detail', '0022000092', 719, 1626162, 'Kelly Oubre Jr.', 1610612744, 'Golden State Warriors', 4, 1, 27, 'Made Shot', 'Layup Shot', '2PT Field Goal', 'Restricted Area', 'Center(C)', 'Less Than 8 ft.', 0, 5, -2, 1, 1, '20210103', 'GSW', 'POR'], ['Shot Chart Detail', '0022000101', 20, 1626162, 'Kelly Oubre Jr.', 1610612744, 'Golden State Warriors', 1, 10, 11, 'Made Shot', 'Jump Shot', '3PT Field Goal', 'Right Corner 3', 'Right Side(R)', '24+ ft.', 24, 230, 74, 1, 1, '20210104', 'GSW', 'SAC'], ['Shot Chart Detail', '0022000101', 29, 1626162, 'Kelly Oubre Jr.', 1610612744, 'Golden State Warriors', 1, 9, 39, 'Missed Shot', 'Dunk Shot', '2PT Field Goal', 'Restricted Area', 'Center(C)', 'Less Than 8 ft.', 3, 2, 37, 1, 0, '20210104', 'GSW', 'SAC'], ['Shot Chart Detail', '0022000101', 33, 1626162, 'Kelly Oubre Jr.', 1610612744, 'Golden State Warriors', 1, 9, 25, 'Missed Shot', 'Running Pull-Up Jump Shot', '3PT Field Goal', 'Left Corner 3', 'Left Side(L)', '24+ ft.', 23, -230, 57, 1, 0, '20210104', 'GSW', 'SAC'], ['Shot Chart Detail', '0022000101', 86, 1626162, 'Kelly Oubre Jr.', 1610612744, 'Golden State Warriors', 1, 6, 16, 'Made Shot', 'Dunk Shot', '2PT Field Goal', 'Restricted Area', 'Center(C)', 'Less Than 8 ft.', 2, -12, 26, 1, 1, '20210104', 'GSW', 'SAC'], ['Shot Chart Detail', '0022000101', 115, 1626162, 'Kelly Oubre Jr.', 1610612744, 'Golden State Warriors', 1, 4, 33, 'Missed Shot', 'Driving Floating Bank Jump Shot', '2PT Field Goal', 'In The Paint (Non-RA)', 'Center(C)', 'Less Than 8 ft.', 6, 0, 68, 1, 0, '20210104', 'GSW', 'SAC'], ['Shot Chart Detail', '0022000101', 161, 1626162, 'Kelly Oubre Jr.', 1610612744, 'Golden State Warriors', 1, 1, 28, 'Missed Shot', 'Step Back Jump shot', '3PT Field Goal', 'Above the Break 3', 'Left Side Center(LC)', '24+ ft.', 26, -161, 216, 1, 0, '20210104', 'GSW', 'SAC'], ['Shot Chart Detail', '0022000101', 319, 1626162, 'Kelly Oubre Jr.', 1610612744, 'Golden State Warriors', 2, 3, 12, 'Made Shot', 'Running Dunk Shot', '2PT Field Goal', 'Restricted Area', 'Center(C)', 'Less Than 8 ft.', 3, 0, 33, 1, 1, '20210104', 'GSW', 'SAC'], ['Shot Chart Detail', '0022000101', 338, 1626162, 'Kelly Oubre Jr.', 1610612744, 'Golden State Warriors', 2, 2, 12, 'Missed Shot', 'Layup Shot', '2PT Field Goal', 'Restricted Area', 'Center(C)', 'Less Than 8 ft.', 3, 0, 34, 1, 0, '20210104', 'GSW', 'SAC'], ['Shot Chart Detail', '0022000101', 355, 1626162, 'Kelly Oubre Jr.', 1610612744, 'Golden State Warriors', 2, 1, 6, 'Missed Shot', 'Jump Shot', '2PT Field Goal', 'Mid-Range', 'Right Side(R)', '8-16 ft.', 14, 143, 4, 1, 0, '20210104', 'GSW', 'SAC'], ['Shot Chart Detail', '0022000101', 390, 1626162, 'Kelly Oubre Jr.', 1610612744, 'Golden State Warriors', 3, 11, 33, 'Missed Shot', 'Hook Shot', '2PT Field Goal', 'In The Paint (Non-RA)', 'Center(C)', 'Less Than 8 ft.', 5, 20, 51, 1, 0, '20210104', 'GSW', 'SAC'], ['Shot Chart Detail', '0022000101', 400, 1626162, 'Kelly Oubre Jr.', 1610612744, 'Golden State Warriors', 3, 9, 59, 'Made Shot', 'Jump Shot', '3PT Field Goal', 'Left Corner 3', 'Left Side(L)', '24+ ft.', 22, -227, -10, 1, 1, '20210104', 'GSW', 'SAC'], ['Shot Chart Detail', '0022000101', 458, 1626162, 'Kelly Oubre Jr.', 1610612744, 'Golden State Warriors', 3, 5, 44, 'Made Shot', 'Jump Shot', '3PT Field Goal', 'Left Corner 3', 'Left Side(L)', '24+ ft.', 22, -222, -2, 1, 1, '20210104', 'GSW', 'SAC'], ['Shot Chart Detail', '0022000101', 494, 1626162, 'Kelly Oubre Jr.', 1610612744, 'Golden State Warriors', 3, 3, 24, 'Made Shot', 'Jump Shot', '3PT Field Goal', 'Above the Break 3', 'Left Side Center(LC)', '24+ ft.', 25, -151, 201, 1, 1, '20210104', 'GSW', 'SAC'], ['Shot Chart Detail', '0022000116', 21, 1626162, 'Kelly Oubre Jr.', 1610612744, 'Golden State Warriors', 1, 10, 7, 'Missed Shot', 'Jump Shot', '3PT Field Goal', 'Left Corner 3', 'Left Side(L)', '24+ ft.', 23, -228, 67, 1, 0, '20210106', 'GSW', 'LAC'], ['Shot Chart Detail', '0022000116', 51, 1626162, 'Kelly Oubre Jr.', 1610612744, 'Golden State Warriors', 1, 7, 41, 'Missed Shot', 'Jump Shot', '3PT Field Goal', 'Above the Break 3', 'Left Side Center(LC)', '24+ ft.', 27, -153, 231, 1, 0, '20210106', 'GSW', 'LAC'], ['Shot Chart Detail', '0022000116', 58, 1626162, 'Kelly Oubre Jr.', 1610612744, 'Golden State Warriors', 1, 6, 49, 'Made Shot', 'Driving Finger Roll Layup Shot', '2PT Field Goal', 'Restricted Area', 'Center(C)', 'Less Than 8 ft.', 2, -7, 27, 1, 1, '20210106', 'GSW', 'LAC'], ['Shot Chart Detail', '0022000116', 71, 1626162, 'Kelly Oubre Jr.', 1610612744, 'Golden State Warriors', 1, 5, 34, 'Missed Shot', 'Step Back Jump shot', '3PT Field Goal', 'Right Corner 3', 'Right Side(R)', '24+ ft.', 22, 222, 18, 1, 0, '20210106', 'GSW', 'LAC'], ['Shot Chart Detail', '0022000116', 100, 1626162, 'Kelly Oubre Jr.', 1610612744, 'Golden State Warriors', 1, 3, 13, 'Missed Shot', 'Jump Shot', '3PT Field Goal', 'Right Corner 3', 'Right Side(R)', '24+ ft.', 22, 227, 36, 1, 0, '20210106', 'GSW', 'LAC'], ['Shot Chart Detail', '0022000116', 112, 1626162, 'Kelly Oubre Jr.', 1610612744, 'Golden State Warriors', 1, 2, 27, 'Missed Shot', 'Driving Layup Shot', '2PT Field Goal', 'In The Paint (Non-RA)', 'Center(C)', 'Less Than 8 ft.', 4, -2, 46, 1, 0, '20210106', 'GSW', 'LAC'], ['Shot Chart Detail', '0022000116', 286, 1626162, 'Kelly Oubre Jr.', 1610612744, 'Golden State Warriors', 2, 3, 0, 'Missed Shot', 'Driving Layup Shot', '2PT Field Goal', 'In The Paint (Non-RA)', 'Center(C)', 'Less Than 8 ft.', 4, 31, 39, 1, 0, '20210106', 'GSW', 'LAC'], ['Shot Chart Detail', '0022000116', 301, 1626162, 'Kelly Oubre Jr.', 1610612744, 'Golden State Warriors', 2, 2, 36, 'Missed Shot', 'Driving Layup Shot', '2PT Field Goal', 'In The Paint (Non-RA)', 'Center(C)', 'Less Than 8 ft.', 6, 13, 60, 1, 0, '20210106', 'GSW', 'LAC'], ['Shot Chart Detail', '0022000116', 310, 1626162, 'Kelly Oubre Jr.', 1610612744, 'Golden State Warriors', 2, 1, 57, 'Missed Shot', 'Jump Shot', '3PT Field Goal', 'Right Corner 3', 'Right Side(R)', '24+ ft.', 22, 226, 33, 1, 0, '20210106', 'GSW', 'LAC'], ['Shot Chart Detail', '0022000116', 318, 1626162, 'Kelly Oubre Jr.', 1610612744, 'Golden State Warriors', 2, 0, 57, 'Made Shot', 'Running Dunk Shot', '2PT Field Goal', 'Restricted Area', 'Center(C)', 'Less Than 8 ft.', 2, 0, 20, 1, 1, '20210106', 'GSW', 'LAC'], ['Shot Chart Detail', '0022000116', 382, 1626162, 'Kelly Oubre Jr.', 1610612744, 'Golden State Warriors', 3, 7, 56, 'Made Shot', 'Running Dunk Shot', '2PT Field Goal', 'Restricted Area', 'Center(C)', 'Less Than 8 ft.', 0, -5, 1, 1, 1, '20210106', 'GSW', 'LAC'], ['Shot Chart Detail', '0022000116', 398, 1626162, 'Kelly Oubre Jr.', 1610612744, 'Golden State Warriors', 3, 7, 34, 'Missed Shot', 'Jump Shot', '3PT Field Goal', 'Left Corner 3', 'Left Side(L)', '24+ ft.', 22, -226, -15, 1, 0, '20210106', 'GSW', 'LAC'], ['Shot Chart Detail', '0022000116', 610, 1626162, 'Kelly Oubre Jr.', 1610612744, 'Golden State Warriors', 4, 3, 45, 'Made Shot', 'Driving Floating Jump Shot', '2PT Field Goal', 'In The Paint (Non-RA)', 'Left Side(L)', '8-16 ft.', 8, -49, 71, 1, 1, '20210106', 'GSW', 'LAC'], ['Shot Chart Detail', '0022000130', 27, 1626162, 'Kelly Oubre Jr.', 1610612744, 'Golden State Warriors', 1, 10, 8, 'Missed Shot', 'Putback Layup Shot', '2PT Field Goal', 'In The Paint (Non-RA)', 'Center(C)', 'Less Than 8 ft.', 4, -25, 36, 1, 0, '20210108', 'GSW', 'LAC'], ['Shot Chart Detail', '0022000130', 50, 1626162, 'Kelly Oubre Jr.', 1610612744, 'Golden State Warriors', 1, 7, 47, 'Made Shot', 'Driving Layup Shot', '2PT Field Goal', 'In The Paint (Non-RA)', 'Center(C)', 'Less Than 8 ft.', 5, 9, 54, 1, 1, '20210108', 'GSW', 'LAC'], ['Shot Chart Detail', '0022000130', 55, 1626162, 'Kelly Oubre Jr.', 1610612744, 'Golden State Warriors', 1, 7, 15, 'Missed Shot', 'Jump Shot', '3PT Field Goal', 'Above the Break 3', 'Left Side Center(LC)', '24+ ft.', 27, -116, 246, 1, 0, '20210108', 'GSW', 'LAC'], ['Shot Chart Detail', '0022000130', 59, 1626162, 'Kelly Oubre Jr.', 1610612744, 'Golden State Warriors', 1, 6, 42, 'Missed Shot', 'Jump Shot', '3PT Field Goal', 'Left Corner 3', 'Left Side(L)', '24+ ft.', 22, -225, 27, 1, 0, '20210108', 'GSW', 'LAC'], ['Shot Chart Detail', '0022000130', 96, 1626162, 'Kelly Oubre Jr.', 1610612744, 'Golden State Warriors', 1, 4, 12, 'Made Shot', 'Driving Dunk Shot', '2PT Field Goal', 'Restricted Area', 'Center(C)', 'Less Than 8 ft.', 1, 10, 12, 1, 1, '20210108', 'GSW', 'LAC'], ['Shot Chart Detail', '0022000130', 319, 1626162, 'Kelly Oubre Jr.', 1610612744, 'Golden State Warriors', 2, 0, 5, 'Missed Shot', 'Driving Floating Jump Shot', '2PT Field Goal', 'Mid-Range', 'Right Side(R)', '8-16 ft.', 10, 100, 15, 1, 0, '20210108', 'GSW', 'LAC'], ['Shot Chart Detail', '0022000130', 431, 1626162, 'Kelly Oubre Jr.', 1610612744, 'Golden State Warriors', 3, 4, 2, 'Missed Shot', 'Jump Shot', '3PT Field Goal', 'Above the Break 3', 'Left Side Center(LC)', '24+ ft.', 28, -180, 221, 1, 0, '20210108', 'GSW', 'LAC'], ['Shot Chart Detail', '0022000148', 30, 1626162, 'Kelly Oubre Jr.', 1610612744, 'Golden State Warriors', 1, 9, 32, 'Missed Shot', 'Driving Layup Shot', '2PT Field Goal', 'Restricted Area', 'Center(C)', 'Less Than 8 ft.', 2, 10, 27, 1, 0, '20210110', 'GSW', 'TOR'], ['Shot Chart Detail', '0022000148', 38, 1626162, 'Kelly Oubre Jr.', 1610612744, 'Golden State Warriors', 1, 8, 54, 'Made Shot', 'Floating Jump shot', '2PT Field Goal', 'Mid-Range', 'Left Side(L)', '8-16 ft.', 10, -107, 25, 1, 1, '20210110', 'GSW', 'TOR'], ['Shot Chart Detail', '0022000148', 49, 1626162, 'Kelly Oubre Jr.', 1610612744, 'Golden State Warriors', 1, 8, 1, 'Missed Shot', 'Jump Shot', '3PT Field Goal', 'Above the Break 3', 'Center(C)', '24+ ft.', 27, 76, 263, 1, 0, '20210110', 'GSW', 'TOR'], ['Shot Chart Detail', '0022000148', 59, 1626162, 'Kelly Oubre Jr.', 1610612744, 'Golden State Warriors', 1, 7, 35, 'Missed Shot', 'Driving Floating Jump Shot', '2PT Field Goal', 'In The Paint (Non-RA)', 'Center(C)', '8-16 ft.', 11, -36, 104, 1, 0, '20210110', 'GSW', 'TOR'], ['Shot Chart Detail', '0022000148', 93, 1626162, 'Kelly Oubre Jr.', 1610612744, 'Golden State Warriors', 1, 4, 51, 'Made Shot', 'Cutting Layup Shot', '2PT Field Goal', 'Restricted Area', 'Center(C)', 'Less Than 8 ft.', 3, 4, 34, 1, 1, '20210110', 'GSW', 'TOR'], ['Shot Chart Detail', '0022000148', 99, 1626162, 'Kelly Oubre Jr.', 1610612744, 'Golden State Warriors', 1, 4, 21, 'Missed Shot', 'Putback Layup Shot', '2PT Field Goal', 'In The Paint (Non-RA)', 'Center(C)', '8-16 ft.', 9, -9, 94, 1, 0, '20210110', 'GSW', 'TOR'], ['Shot Chart Detail', '0022000148', 290, 1626162, 'Kelly Oubre Jr.', 1610612744, 'Golden State Warriors', 2, 4, 4, 'Missed Shot', 'Driving Floating Jump Shot', '2PT Field Goal', 'In The Paint (Non-RA)', 'Center(C)', 'Less Than 8 ft.', 7, -2, 75, 1, 0, '20210110', 'GSW', 'TOR'], ['Shot Chart Detail', '0022000148', 320, 1626162, 'Kelly Oubre Jr.', 1610612744, 'Golden State Warriors', 2, 2, 15, 'Made Shot', 'Tip Layup Shot', '2PT Field Goal', 'Restricted Area', 'Center(C)', 'Less Than 8 ft.', 0, 0, 0, 1, 1, '20210110', 'GSW', 'TOR'], ['Shot Chart Detail', '0022000148', 394, 1626162, 'Kelly Oubre Jr.', 1610612744, 'Golden State Warriors', 3, 7, 52, 'Missed Shot', 'Jump Shot', '3PT Field Goal', 'Above the Break 3', 'Right Side Center(RC)', '24+ ft.', 24, 186, 167, 1, 0, '20210110', 'GSW', 'TOR'], ['Shot Chart Detail', '0022000148', 446, 1626162, 'Kelly Oubre Jr.', 1610612744, 'Golden State Warriors', 3, 4, 13, 'Made Shot', 'Putback Layup Shot', '2PT Field Goal', 'Restricted Area', 'Center(C)', 'Less Than 8 ft.', 1, 1, 13, 1, 1, '20210110', 'GSW', 'TOR'], ['Shot Chart Detail', '0022000148', 449, 1626162, 'Kelly Oubre Jr.', 1610612744, 'Golden State Warriors', 3, 3, 48, 'Missed Shot', 'Jump Shot', '3PT Field Goal', 'Left Corner 3', 'Left Side(L)', '24+ ft.', 22, -222, -4, 1, 0, '20210110', 'GSW', 'TOR'], ['Shot Chart Detail', '0022000148', 603, 1626162, 'Kelly Oubre Jr.', 1610612744, 'Golden State Warriors', 4, 6, 18, 'Missed Shot', 'Jump Shot', '3PT Field Goal', 'Above the Break 3', 'Center(C)', '24+ ft.', 25, 40, 256, 1, 0, '20210110', 'GSW', 'TOR'], ['Shot Chart Detail', '0022000148', 618, 1626162, 'Kelly Oubre Jr.', 1610612744, 'Golden State Warriors', 4, 4, 59, 'Made Shot', 'Jump Shot', '3PT Field Goal', 'Left Corner 3', 'Left Side(L)', '24+ ft.', 22, -222, -8, 1, 1, '20210110', 'GSW', 'TOR'], ['Shot Chart Detail', '0022000148', 655, 1626162, 'Kelly Oubre Jr.', 1610612744, 'Golden State Warriors', 4, 2, 8, 'Missed Shot', 'Jump Shot', '3PT Field Goal', 'Above the Break 3', 'Right Side Center(RC)', '24+ ft.', 26, 193, 178, 1, 0, '20210110', 'GSW', 'TOR'], ['Shot Chart Detail', '0022000163', 26, 1626162, 'Kelly Oubre Jr.', 1610612744, 'Golden State Warriors', 1, 9, 50, 'Made Shot', 'Driving Floating Jump Shot', '2PT Field Goal', 'In The Paint (Non-RA)', 'Center(C)', '8-16 ft.', 11, -41, 105, 1, 1, '20210112', 'GSW', 'IND'], ['Shot Chart Detail', '0022000163', 44, 1626162, 'Kelly Oubre Jr.', 1610612744, 'Golden State Warriors', 1, 8, 15, 'Made Shot', 'Driving Floating Jump Shot', '2PT Field Goal', 'In The Paint (Non-RA)', 'Center(C)', 'Less Than 8 ft.', 6, 22, 58, 1, 1, '20210112', 'GSW', 'IND'], ['Shot Chart Detail', '0022000163', 70, 1626162, 'Kelly Oubre Jr.', 1610612744, 'Golden State Warriors', 1, 6, 3, 'Made Shot', 'Jump Shot', '3PT Field Goal', 'Above the Break 3', 'Right Side Center(RC)', '24+ ft.', 25, 171, 184, 1, 1, '20210112', 'GSW', 'IND'], ['Shot Chart Detail', '0022000163', 248, 1626162, 'Kelly Oubre Jr.', 1610612744, 'Golden State Warriors', 2, 7, 47, 'Made Shot', 'Jump Shot', '3PT Field Goal', 'Above the Break 3', 'Right Side Center(RC)', '24+ ft.', 27, 177, 206, 1, 1, '20210112', 'GSW', 'IND'], ['Shot Chart Detail', '0022000163', 305, 1626162, 'Kelly Oubre Jr.', 1610612744, 'Golden State Warriors', 2, 3, 15, 'Missed Shot', 'Step Back Jump shot', '3PT Field Goal', 'Right Corner 3', 'Right Side(R)', '24+ ft.', 23, 232, 59, 1, 0, '20210112', 'GSW', 'IND'], ['Shot Chart Detail', '0022000163', 333, 1626162, 'Kelly Oubre Jr.', 1610612744, 'Golden State Warriors', 2, 1, 39, 'Made Shot', 'Jump Shot', '3PT Field Goal', 'Right Corner 3', 'Right Side(R)', '24+ ft.', 22, 221, 50, 1, 1, '20210112', 'GSW', 'IND'], ['Shot Chart Detail', '0022000163', 404, 1626162, 'Kelly Oubre Jr.', 1610612744, 'Golden State Warriors', 3, 8, 37, 'Missed Shot', 'Running Layup Shot', '2PT Field Goal', 'Restricted Area', 'Center(C)', 'Less Than 8 ft.', 2, -2, 22, 1, 0, '20210112', 'GSW', 'IND'], ['Shot Chart Detail', '0022000163', 444, 1626162, 'Kelly Oubre Jr.', 1610612744, 'Golden State Warriors', 3, 5, 32, 'Missed Shot', 'Jump Shot', '3PT Field Goal', 'Above the Break 3', 'Left Side Center(LC)', '24+ ft.', 25, -160, 200, 1, 0, '20210112', 'GSW', 'IND'], ['Shot Chart Detail', '0022000163', 459, 1626162, 'Kelly Oubre Jr.', 1610612744, 'Golden State Warriors', 3, 4, 33, 'Missed Shot', 'Jump Shot', '3PT Field Goal', 'Above the Break 3', 'Left Side Center(LC)', '24+ ft.', 24, -156, 195, 1, 0, '20210112', 'GSW', 'IND'], ['Shot Chart Detail', '0022000163', 465, 1626162, 'Kelly Oubre Jr.', 1610612744, 'Golden State Warriors', 3, 4, 4, 'Made Shot', 'Running Dunk Shot', '2PT Field Goal', 'Restricted Area', 'Center(C)', 'Less Than 8 ft.', 0, 3, 0, 1, 1, '20210112', 'GSW', 'IND'], ['Shot Chart Detail', '0022000163', 683, 1626162, 'Kelly Oubre Jr.', 1610612744, 'Golden State Warriors', 4, 0, 33, 'Missed Shot', 'Jump Shot', '3PT Field Goal', 'Left Corner 3', 'Left Side(L)', '24+ ft.', 22, -225, -12, 1, 0, '20210112', 'GSW', 'IND']]}, {'name': 'LeagueAverages', 'headers': ['GRID_TYPE', 'SHOT_ZONE_BASIC', 'SHOT_ZONE_AREA', 'SHOT_ZONE_RANGE', 'FGA', 'FGM', 'FG_PCT'], 'rowSet': [['League Averages', 'Above the Break 3', 'Back Court(BC)', 'Back Court Shot', 7, 0, 0.0], ['League Averages', 'Above the Break 3', 'Center(C)', '24+ ft.', 2269, 777, 0.342], ['League Averages', 'Above the Break 3', 'Left Side Center(LC)', '24+ ft.', 3174, 1177, 0.371], ['League Averages', 'Above the Break 3', 'Right Side Center(RC)', '24+ ft.', 3013, 1082, 0.359], ['League Averages', 'Backcourt', 'Back Court(BC)', 'Back Court Shot', 42, 0, 0.0], ['League Averages', 'In The Paint (Non-RA)', 'Center(C)', '8-16 ft.', 1531, 679, 0.444], ['League Averages', 'In The Paint (Non-RA)', 'Center(C)', 'Less Than 8 ft.', 2688, 1093, 0.407], ['League Averages', 'In The Paint (Non-RA)', 'Left Side(L)', '8-16 ft.', 285, 111, 0.389], ['League Averages', 'In The Paint (Non-RA)', 'Right Side(R)', '8-16 ft.', 272, 114, 0.419], ['League Averages', 'Left Corner 3', 'Left Side(L)', '24+ ft.', 1365, 552, 0.404], ['League Averages', 'Mid-Range', 'Center(C)', '8-16 ft.', 300, 141, 0.47], ['League Averages', 'Mid-Range', 'Center(C)', '16-24 ft.', 665, 292, 0.439], ['League Averages', 'Mid-Range', 'Left Side Center(LC)', '16-24 ft.', 514, 213, 0.414], ['League Averages', 'Mid-Range', 'Left Side(L)', '16-24 ft.', 220, 88, 0.4], ['League Averages', 'Mid-Range', 'Left Side(L)', '8-16 ft.', 648, 264, 0.407], ['League Averages', 'Mid-Range', 'Right Side Center(RC)', '16-24 ft.', 576, 247, 0.429], ['League Averages', 'Mid-Range', 'Right Side(R)', '16-24 ft.', 196, 71, 0.362], ['League Averages', 'Mid-Range', 'Right Side(R)', '8-16 ft.', 624, 246, 0.394], ['League Averages', 'Restricted Area', 'Center(C)', 'Less Than 8 ft.', 8498, 5341, 0.629], ['League Averages', 'Right Corner 3', 'Right Side(R)', '24+ ft.', 1274, 484, 0.38]]}]}\n"
     ]
    }
   ],
   "source": [
    "# Create JSON request\n",
    "shot_json = shotchartdetail.ShotChartDetail(\n",
    "            team_id = get_team_id('Golden State Warriors'),\n",
    "            player_id = get_player_id('Kelly', 'Oubre Jr.'),\n",
    "            #determined which tonext to use for searching for shots pts = made shot\n",
    "            context_measure_simple = 'FGA', \n",
    "            #season of interest\n",
    "            season_nullable = '2020-21',\n",
    "            #which portion of the season (pre season, regular, playoffs, all star)\n",
    "            season_type_all_star = 'Regular Season')\n",
    "\n",
    "#load data in a dict\n",
    "shot_data = json.loads(shot_json.get_json())\n",
    "\n",
    "print(shot_data)\n"
   ]
  },
  {
   "cell_type": "code",
   "execution_count": 106,
   "metadata": {},
   "outputs": [
    {
     "output_type": "execute_result",
     "data": {
      "text/plain": [
       "           GRID_TYPE     GAME_ID  GAME_EVENT_ID  PLAYER_ID      PLAYER_NAME  \\\n",
       "0  Shot Chart Detail  0022000001             72    1626162  Kelly Oubre Jr.   \n",
       "1  Shot Chart Detail  0022000001             88    1626162  Kelly Oubre Jr.   \n",
       "2  Shot Chart Detail  0022000001            106    1626162  Kelly Oubre Jr.   \n",
       "3  Shot Chart Detail  0022000001            108    1626162  Kelly Oubre Jr.   \n",
       "4  Shot Chart Detail  0022000001            114    1626162  Kelly Oubre Jr.   \n",
       "\n",
       "      TEAM_ID              TEAM_NAME  PERIOD  MINUTES_REMAINING  \\\n",
       "0  1610612744  Golden State Warriors       1                  6   \n",
       "1  1610612744  Golden State Warriors       1                  5   \n",
       "2  1610612744  Golden State Warriors       1                  4   \n",
       "3  1610612744  Golden State Warriors       1                  4   \n",
       "4  1610612744  Golden State Warriors       1                  3   \n",
       "\n",
       "   SECONDS_REMAINING  ... SHOT_ZONE_AREA  SHOT_ZONE_RANGE SHOT_DISTANCE LOC_X  \\\n",
       "0                 41  ...  Right Side(R)          24+ ft.            22   229   \n",
       "1                 47  ...      Center(C)          24+ ft.            24    11   \n",
       "2                 21  ...      Center(C)  Less Than 8 ft.             0     6   \n",
       "3                 18  ...      Center(C)  Less Than 8 ft.             2     7   \n",
       "4                 52  ...      Center(C)  Less Than 8 ft.             3     9   \n",
       "\n",
       "  LOC_Y SHOT_ATTEMPTED_FLAG  SHOT_MADE_FLAG  GAME_DATE  HTM  VTM  \n",
       "0    21                   1               0 2020-12-22  BKN  GSW  \n",
       "1   246                   1               0 2020-12-22  BKN  GSW  \n",
       "2     6                   1               0 2020-12-22  BKN  GSW  \n",
       "3    20                   1               0 2020-12-22  BKN  GSW  \n",
       "4    29                   1               1 2020-12-22  BKN  GSW  \n",
       "\n",
       "[5 rows x 24 columns]"
      ],
      "text/html": "<div>\n<style scoped>\n    .dataframe tbody tr th:only-of-type {\n        vertical-align: middle;\n    }\n\n    .dataframe tbody tr th {\n        vertical-align: top;\n    }\n\n    .dataframe thead th {\n        text-align: right;\n    }\n</style>\n<table border=\"1\" class=\"dataframe\">\n  <thead>\n    <tr style=\"text-align: right;\">\n      <th></th>\n      <th>GRID_TYPE</th>\n      <th>GAME_ID</th>\n      <th>GAME_EVENT_ID</th>\n      <th>PLAYER_ID</th>\n      <th>PLAYER_NAME</th>\n      <th>TEAM_ID</th>\n      <th>TEAM_NAME</th>\n      <th>PERIOD</th>\n      <th>MINUTES_REMAINING</th>\n      <th>SECONDS_REMAINING</th>\n      <th>...</th>\n      <th>SHOT_ZONE_AREA</th>\n      <th>SHOT_ZONE_RANGE</th>\n      <th>SHOT_DISTANCE</th>\n      <th>LOC_X</th>\n      <th>LOC_Y</th>\n      <th>SHOT_ATTEMPTED_FLAG</th>\n      <th>SHOT_MADE_FLAG</th>\n      <th>GAME_DATE</th>\n      <th>HTM</th>\n      <th>VTM</th>\n    </tr>\n  </thead>\n  <tbody>\n    <tr>\n      <th>0</th>\n      <td>Shot Chart Detail</td>\n      <td>0022000001</td>\n      <td>72</td>\n      <td>1626162</td>\n      <td>Kelly Oubre Jr.</td>\n      <td>1610612744</td>\n      <td>Golden State Warriors</td>\n      <td>1</td>\n      <td>6</td>\n      <td>41</td>\n      <td>...</td>\n      <td>Right Side(R)</td>\n      <td>24+ ft.</td>\n      <td>22</td>\n      <td>229</td>\n      <td>21</td>\n      <td>1</td>\n      <td>0</td>\n      <td>2020-12-22</td>\n      <td>BKN</td>\n      <td>GSW</td>\n    </tr>\n    <tr>\n      <th>1</th>\n      <td>Shot Chart Detail</td>\n      <td>0022000001</td>\n      <td>88</td>\n      <td>1626162</td>\n      <td>Kelly Oubre Jr.</td>\n      <td>1610612744</td>\n      <td>Golden State Warriors</td>\n      <td>1</td>\n      <td>5</td>\n      <td>47</td>\n      <td>...</td>\n      <td>Center(C)</td>\n      <td>24+ ft.</td>\n      <td>24</td>\n      <td>11</td>\n      <td>246</td>\n      <td>1</td>\n      <td>0</td>\n      <td>2020-12-22</td>\n      <td>BKN</td>\n      <td>GSW</td>\n    </tr>\n    <tr>\n      <th>2</th>\n      <td>Shot Chart Detail</td>\n      <td>0022000001</td>\n      <td>106</td>\n      <td>1626162</td>\n      <td>Kelly Oubre Jr.</td>\n      <td>1610612744</td>\n      <td>Golden State Warriors</td>\n      <td>1</td>\n      <td>4</td>\n      <td>21</td>\n      <td>...</td>\n      <td>Center(C)</td>\n      <td>Less Than 8 ft.</td>\n      <td>0</td>\n      <td>6</td>\n      <td>6</td>\n      <td>1</td>\n      <td>0</td>\n      <td>2020-12-22</td>\n      <td>BKN</td>\n      <td>GSW</td>\n    </tr>\n    <tr>\n      <th>3</th>\n      <td>Shot Chart Detail</td>\n      <td>0022000001</td>\n      <td>108</td>\n      <td>1626162</td>\n      <td>Kelly Oubre Jr.</td>\n      <td>1610612744</td>\n      <td>Golden State Warriors</td>\n      <td>1</td>\n      <td>4</td>\n      <td>18</td>\n      <td>...</td>\n      <td>Center(C)</td>\n      <td>Less Than 8 ft.</td>\n      <td>2</td>\n      <td>7</td>\n      <td>20</td>\n      <td>1</td>\n      <td>0</td>\n      <td>2020-12-22</td>\n      <td>BKN</td>\n      <td>GSW</td>\n    </tr>\n    <tr>\n      <th>4</th>\n      <td>Shot Chart Detail</td>\n      <td>0022000001</td>\n      <td>114</td>\n      <td>1626162</td>\n      <td>Kelly Oubre Jr.</td>\n      <td>1610612744</td>\n      <td>Golden State Warriors</td>\n      <td>1</td>\n      <td>3</td>\n      <td>52</td>\n      <td>...</td>\n      <td>Center(C)</td>\n      <td>Less Than 8 ft.</td>\n      <td>3</td>\n      <td>9</td>\n      <td>29</td>\n      <td>1</td>\n      <td>1</td>\n      <td>2020-12-22</td>\n      <td>BKN</td>\n      <td>GSW</td>\n    </tr>\n  </tbody>\n</table>\n<p>5 rows × 24 columns</p>\n</div>"
     },
     "metadata": {},
     "execution_count": 106
    }
   ],
   "source": [
    "\n",
    "fga = shot_data['resultSets'][0]\n",
    "# Get the headers and row data\n",
    "headers = fga['headers']\n",
    "rows = fga['rowSet']\n",
    "\n",
    "# Create pandas DataFrame\n",
    "fga = pd.DataFrame(rows)\n",
    "fga.columns = headers\n",
    "\n",
    "#fga['GAME_DATE'] = pd.to_datetime(fga['GAME_DATE'], format='%d/%m/%Y')\n",
    "\n",
    "fga['GAME_DATE'] = pd.to_datetime(fga.GAME_DATE)\n",
    "fga.head()\n",
    "#fga['GAME_DATE'] = fga['GAME_DATE'].to_datetime.datetime.strptime('24052010', \"%d%m%Y\").date()"
   ]
  },
  {
   "cell_type": "code",
   "execution_count": 107,
   "metadata": {},
   "outputs": [
    {
     "output_type": "execute_result",
     "data": {
      "text/plain": [
       "                      ACTION_TYPE       SHOT_TYPE    SHOT_ZONE_BASIC  \\\n",
       "0                Pullup Jump shot  3PT Field Goal     Right Corner 3   \n",
       "1                       Jump Shot  3PT Field Goal  Above the Break 3   \n",
       "2  Driving Finger Roll Layup Shot  2PT Field Goal    Restricted Area   \n",
       "3               Driving Dunk Shot  2PT Field Goal    Restricted Area   \n",
       "4                   Tip Dunk Shot  2PT Field Goal    Restricted Area   \n",
       "\n",
       "  SHOT_ZONE_AREA  SHOT_ZONE_RANGE  SHOT_DISTANCE  LOC_X  LOC_Y  \\\n",
       "0  Right Side(R)          24+ ft.             22    229     21   \n",
       "1      Center(C)          24+ ft.             24     11    246   \n",
       "2      Center(C)  Less Than 8 ft.              0      6      6   \n",
       "3      Center(C)  Less Than 8 ft.              2      7     20   \n",
       "4      Center(C)  Less Than 8 ft.              3      9     29   \n",
       "\n",
       "   SHOT_MADE_FLAG  SHOT_ATTEMPTED_FLAG  GAME_DATE  \n",
       "0               0                    1 2020-12-22  \n",
       "1               0                    1 2020-12-22  \n",
       "2               0                    1 2020-12-22  \n",
       "3               0                    1 2020-12-22  \n",
       "4               1                    1 2020-12-22  "
      ],
      "text/html": "<div>\n<style scoped>\n    .dataframe tbody tr th:only-of-type {\n        vertical-align: middle;\n    }\n\n    .dataframe tbody tr th {\n        vertical-align: top;\n    }\n\n    .dataframe thead th {\n        text-align: right;\n    }\n</style>\n<table border=\"1\" class=\"dataframe\">\n  <thead>\n    <tr style=\"text-align: right;\">\n      <th></th>\n      <th>ACTION_TYPE</th>\n      <th>SHOT_TYPE</th>\n      <th>SHOT_ZONE_BASIC</th>\n      <th>SHOT_ZONE_AREA</th>\n      <th>SHOT_ZONE_RANGE</th>\n      <th>SHOT_DISTANCE</th>\n      <th>LOC_X</th>\n      <th>LOC_Y</th>\n      <th>SHOT_MADE_FLAG</th>\n      <th>SHOT_ATTEMPTED_FLAG</th>\n      <th>GAME_DATE</th>\n    </tr>\n  </thead>\n  <tbody>\n    <tr>\n      <th>0</th>\n      <td>Pullup Jump shot</td>\n      <td>3PT Field Goal</td>\n      <td>Right Corner 3</td>\n      <td>Right Side(R)</td>\n      <td>24+ ft.</td>\n      <td>22</td>\n      <td>229</td>\n      <td>21</td>\n      <td>0</td>\n      <td>1</td>\n      <td>2020-12-22</td>\n    </tr>\n    <tr>\n      <th>1</th>\n      <td>Jump Shot</td>\n      <td>3PT Field Goal</td>\n      <td>Above the Break 3</td>\n      <td>Center(C)</td>\n      <td>24+ ft.</td>\n      <td>24</td>\n      <td>11</td>\n      <td>246</td>\n      <td>0</td>\n      <td>1</td>\n      <td>2020-12-22</td>\n    </tr>\n    <tr>\n      <th>2</th>\n      <td>Driving Finger Roll Layup Shot</td>\n      <td>2PT Field Goal</td>\n      <td>Restricted Area</td>\n      <td>Center(C)</td>\n      <td>Less Than 8 ft.</td>\n      <td>0</td>\n      <td>6</td>\n      <td>6</td>\n      <td>0</td>\n      <td>1</td>\n      <td>2020-12-22</td>\n    </tr>\n    <tr>\n      <th>3</th>\n      <td>Driving Dunk Shot</td>\n      <td>2PT Field Goal</td>\n      <td>Restricted Area</td>\n      <td>Center(C)</td>\n      <td>Less Than 8 ft.</td>\n      <td>2</td>\n      <td>7</td>\n      <td>20</td>\n      <td>0</td>\n      <td>1</td>\n      <td>2020-12-22</td>\n    </tr>\n    <tr>\n      <th>4</th>\n      <td>Tip Dunk Shot</td>\n      <td>2PT Field Goal</td>\n      <td>Restricted Area</td>\n      <td>Center(C)</td>\n      <td>Less Than 8 ft.</td>\n      <td>3</td>\n      <td>9</td>\n      <td>29</td>\n      <td>1</td>\n      <td>1</td>\n      <td>2020-12-22</td>\n    </tr>\n  </tbody>\n</table>\n</div>"
     },
     "metadata": {},
     "execution_count": 107
    }
   ],
   "source": [
    "#final dataset\n",
    "fga_curry = fga[['ACTION_TYPE','SHOT_TYPE', 'SHOT_ZONE_BASIC', 'SHOT_ZONE_AREA', 'SHOT_ZONE_RANGE', 'SHOT_DISTANCE', 'LOC_X', 'LOC_Y', 'SHOT_MADE_FLAG', 'SHOT_ATTEMPTED_FLAG', 'GAME_DATE']]\n",
    "#fga_curry.SHOT_MADE_FLAG.unique()\n",
    "fga_curry.head()"
   ]
  },
  {
   "cell_type": "code",
   "execution_count": 115,
   "metadata": {},
   "outputs": [
    {
     "output_type": "execute_result",
     "data": {
      "text/plain": [
       "array(['Right Corner 3', 'Above the Break 3', 'Restricted Area',\n",
       "       'In The Paint (Non-RA)', 'Left Corner 3', 'Mid-Range'],\n",
       "      dtype=object)"
      ]
     },
     "metadata": {},
     "execution_count": 115
    }
   ],
   "source": [
    "fga.SHOT_ZONE_BASIC.unique()"
   ]
  },
  {
   "cell_type": "code",
   "execution_count": 108,
   "metadata": {},
   "outputs": [
    {
     "output_type": "display_data",
     "data": {
      "application/vnd.plotly.v1+json": {
       "config": {
        "linkText": "Export to plot.ly",
        "plotlyServerURL": "https://plot.ly",
        "showLink": false
       },
       "data": [
        {
         "mode": "markers",
         "type": "scatter",
         "x": [
          9,
          2,
          -6,
          0,
          -1,
          0,
          0,
          150,
          -1,
          -8,
          9,
          6,
          -13,
          -9,
          18,
          -8,
          7,
          -40,
          2,
          15,
          -3,
          231,
          0,
          5,
          230,
          -12,
          0,
          -227,
          -222,
          -151,
          -7,
          0,
          -5,
          -49,
          9,
          10,
          -107,
          4,
          0,
          1,
          -222,
          -41,
          22,
          171,
          177,
          221,
          3
         ],
         "y": [
          29,
          -5,
          12,
          4,
          12,
          0,
          0,
          216,
          7,
          17,
          43,
          17,
          27,
          180,
          55,
          24,
          0,
          134,
          43,
          20,
          10,
          48,
          0,
          -2,
          74,
          26,
          33,
          -10,
          -2,
          201,
          27,
          20,
          1,
          71,
          54,
          12,
          25,
          34,
          0,
          13,
          -8,
          105,
          58,
          184,
          206,
          50,
          0
         ]
        }
       ],
       "layout": {
        "height": 600,
        "showlegend": false,
        "template": {
         "data": {
          "bar": [
           {
            "error_x": {
             "color": "#2a3f5f"
            },
            "error_y": {
             "color": "#2a3f5f"
            },
            "marker": {
             "line": {
              "color": "#E5ECF6",
              "width": 0.5
             }
            },
            "type": "bar"
           }
          ],
          "barpolar": [
           {
            "marker": {
             "line": {
              "color": "#E5ECF6",
              "width": 0.5
             }
            },
            "type": "barpolar"
           }
          ],
          "carpet": [
           {
            "aaxis": {
             "endlinecolor": "#2a3f5f",
             "gridcolor": "white",
             "linecolor": "white",
             "minorgridcolor": "white",
             "startlinecolor": "#2a3f5f"
            },
            "baxis": {
             "endlinecolor": "#2a3f5f",
             "gridcolor": "white",
             "linecolor": "white",
             "minorgridcolor": "white",
             "startlinecolor": "#2a3f5f"
            },
            "type": "carpet"
           }
          ],
          "choropleth": [
           {
            "colorbar": {
             "outlinewidth": 0,
             "ticks": ""
            },
            "type": "choropleth"
           }
          ],
          "contour": [
           {
            "colorbar": {
             "outlinewidth": 0,
             "ticks": ""
            },
            "colorscale": [
             [
              0,
              "#0d0887"
             ],
             [
              0.1111111111111111,
              "#46039f"
             ],
             [
              0.2222222222222222,
              "#7201a8"
             ],
             [
              0.3333333333333333,
              "#9c179e"
             ],
             [
              0.4444444444444444,
              "#bd3786"
             ],
             [
              0.5555555555555556,
              "#d8576b"
             ],
             [
              0.6666666666666666,
              "#ed7953"
             ],
             [
              0.7777777777777778,
              "#fb9f3a"
             ],
             [
              0.8888888888888888,
              "#fdca26"
             ],
             [
              1,
              "#f0f921"
             ]
            ],
            "type": "contour"
           }
          ],
          "contourcarpet": [
           {
            "colorbar": {
             "outlinewidth": 0,
             "ticks": ""
            },
            "type": "contourcarpet"
           }
          ],
          "heatmap": [
           {
            "colorbar": {
             "outlinewidth": 0,
             "ticks": ""
            },
            "colorscale": [
             [
              0,
              "#0d0887"
             ],
             [
              0.1111111111111111,
              "#46039f"
             ],
             [
              0.2222222222222222,
              "#7201a8"
             ],
             [
              0.3333333333333333,
              "#9c179e"
             ],
             [
              0.4444444444444444,
              "#bd3786"
             ],
             [
              0.5555555555555556,
              "#d8576b"
             ],
             [
              0.6666666666666666,
              "#ed7953"
             ],
             [
              0.7777777777777778,
              "#fb9f3a"
             ],
             [
              0.8888888888888888,
              "#fdca26"
             ],
             [
              1,
              "#f0f921"
             ]
            ],
            "type": "heatmap"
           }
          ],
          "heatmapgl": [
           {
            "colorbar": {
             "outlinewidth": 0,
             "ticks": ""
            },
            "colorscale": [
             [
              0,
              "#0d0887"
             ],
             [
              0.1111111111111111,
              "#46039f"
             ],
             [
              0.2222222222222222,
              "#7201a8"
             ],
             [
              0.3333333333333333,
              "#9c179e"
             ],
             [
              0.4444444444444444,
              "#bd3786"
             ],
             [
              0.5555555555555556,
              "#d8576b"
             ],
             [
              0.6666666666666666,
              "#ed7953"
             ],
             [
              0.7777777777777778,
              "#fb9f3a"
             ],
             [
              0.8888888888888888,
              "#fdca26"
             ],
             [
              1,
              "#f0f921"
             ]
            ],
            "type": "heatmapgl"
           }
          ],
          "histogram": [
           {
            "marker": {
             "colorbar": {
              "outlinewidth": 0,
              "ticks": ""
             }
            },
            "type": "histogram"
           }
          ],
          "histogram2d": [
           {
            "colorbar": {
             "outlinewidth": 0,
             "ticks": ""
            },
            "colorscale": [
             [
              0,
              "#0d0887"
             ],
             [
              0.1111111111111111,
              "#46039f"
             ],
             [
              0.2222222222222222,
              "#7201a8"
             ],
             [
              0.3333333333333333,
              "#9c179e"
             ],
             [
              0.4444444444444444,
              "#bd3786"
             ],
             [
              0.5555555555555556,
              "#d8576b"
             ],
             [
              0.6666666666666666,
              "#ed7953"
             ],
             [
              0.7777777777777778,
              "#fb9f3a"
             ],
             [
              0.8888888888888888,
              "#fdca26"
             ],
             [
              1,
              "#f0f921"
             ]
            ],
            "type": "histogram2d"
           }
          ],
          "histogram2dcontour": [
           {
            "colorbar": {
             "outlinewidth": 0,
             "ticks": ""
            },
            "colorscale": [
             [
              0,
              "#0d0887"
             ],
             [
              0.1111111111111111,
              "#46039f"
             ],
             [
              0.2222222222222222,
              "#7201a8"
             ],
             [
              0.3333333333333333,
              "#9c179e"
             ],
             [
              0.4444444444444444,
              "#bd3786"
             ],
             [
              0.5555555555555556,
              "#d8576b"
             ],
             [
              0.6666666666666666,
              "#ed7953"
             ],
             [
              0.7777777777777778,
              "#fb9f3a"
             ],
             [
              0.8888888888888888,
              "#fdca26"
             ],
             [
              1,
              "#f0f921"
             ]
            ],
            "type": "histogram2dcontour"
           }
          ],
          "mesh3d": [
           {
            "colorbar": {
             "outlinewidth": 0,
             "ticks": ""
            },
            "type": "mesh3d"
           }
          ],
          "parcoords": [
           {
            "line": {
             "colorbar": {
              "outlinewidth": 0,
              "ticks": ""
             }
            },
            "type": "parcoords"
           }
          ],
          "pie": [
           {
            "automargin": true,
            "type": "pie"
           }
          ],
          "scatter": [
           {
            "marker": {
             "colorbar": {
              "outlinewidth": 0,
              "ticks": ""
             }
            },
            "type": "scatter"
           }
          ],
          "scatter3d": [
           {
            "line": {
             "colorbar": {
              "outlinewidth": 0,
              "ticks": ""
             }
            },
            "marker": {
             "colorbar": {
              "outlinewidth": 0,
              "ticks": ""
             }
            },
            "type": "scatter3d"
           }
          ],
          "scattercarpet": [
           {
            "marker": {
             "colorbar": {
              "outlinewidth": 0,
              "ticks": ""
             }
            },
            "type": "scattercarpet"
           }
          ],
          "scattergeo": [
           {
            "marker": {
             "colorbar": {
              "outlinewidth": 0,
              "ticks": ""
             }
            },
            "type": "scattergeo"
           }
          ],
          "scattergl": [
           {
            "marker": {
             "colorbar": {
              "outlinewidth": 0,
              "ticks": ""
             }
            },
            "type": "scattergl"
           }
          ],
          "scattermapbox": [
           {
            "marker": {
             "colorbar": {
              "outlinewidth": 0,
              "ticks": ""
             }
            },
            "type": "scattermapbox"
           }
          ],
          "scatterpolar": [
           {
            "marker": {
             "colorbar": {
              "outlinewidth": 0,
              "ticks": ""
             }
            },
            "type": "scatterpolar"
           }
          ],
          "scatterpolargl": [
           {
            "marker": {
             "colorbar": {
              "outlinewidth": 0,
              "ticks": ""
             }
            },
            "type": "scatterpolargl"
           }
          ],
          "scatterternary": [
           {
            "marker": {
             "colorbar": {
              "outlinewidth": 0,
              "ticks": ""
             }
            },
            "type": "scatterternary"
           }
          ],
          "surface": [
           {
            "colorbar": {
             "outlinewidth": 0,
             "ticks": ""
            },
            "colorscale": [
             [
              0,
              "#0d0887"
             ],
             [
              0.1111111111111111,
              "#46039f"
             ],
             [
              0.2222222222222222,
              "#7201a8"
             ],
             [
              0.3333333333333333,
              "#9c179e"
             ],
             [
              0.4444444444444444,
              "#bd3786"
             ],
             [
              0.5555555555555556,
              "#d8576b"
             ],
             [
              0.6666666666666666,
              "#ed7953"
             ],
             [
              0.7777777777777778,
              "#fb9f3a"
             ],
             [
              0.8888888888888888,
              "#fdca26"
             ],
             [
              1,
              "#f0f921"
             ]
            ],
            "type": "surface"
           }
          ],
          "table": [
           {
            "cells": {
             "fill": {
              "color": "#EBF0F8"
             },
             "line": {
              "color": "white"
             }
            },
            "header": {
             "fill": {
              "color": "#C8D4E3"
             },
             "line": {
              "color": "white"
             }
            },
            "type": "table"
           }
          ]
         },
         "layout": {
          "annotationdefaults": {
           "arrowcolor": "#2a3f5f",
           "arrowhead": 0,
           "arrowwidth": 1
          },
          "autotypenumbers": "strict",
          "coloraxis": {
           "colorbar": {
            "outlinewidth": 0,
            "ticks": ""
           }
          },
          "colorscale": {
           "diverging": [
            [
             0,
             "#8e0152"
            ],
            [
             0.1,
             "#c51b7d"
            ],
            [
             0.2,
             "#de77ae"
            ],
            [
             0.3,
             "#f1b6da"
            ],
            [
             0.4,
             "#fde0ef"
            ],
            [
             0.5,
             "#f7f7f7"
            ],
            [
             0.6,
             "#e6f5d0"
            ],
            [
             0.7,
             "#b8e186"
            ],
            [
             0.8,
             "#7fbc41"
            ],
            [
             0.9,
             "#4d9221"
            ],
            [
             1,
             "#276419"
            ]
           ],
           "sequential": [
            [
             0,
             "#0d0887"
            ],
            [
             0.1111111111111111,
             "#46039f"
            ],
            [
             0.2222222222222222,
             "#7201a8"
            ],
            [
             0.3333333333333333,
             "#9c179e"
            ],
            [
             0.4444444444444444,
             "#bd3786"
            ],
            [
             0.5555555555555556,
             "#d8576b"
            ],
            [
             0.6666666666666666,
             "#ed7953"
            ],
            [
             0.7777777777777778,
             "#fb9f3a"
            ],
            [
             0.8888888888888888,
             "#fdca26"
            ],
            [
             1,
             "#f0f921"
            ]
           ],
           "sequentialminus": [
            [
             0,
             "#0d0887"
            ],
            [
             0.1111111111111111,
             "#46039f"
            ],
            [
             0.2222222222222222,
             "#7201a8"
            ],
            [
             0.3333333333333333,
             "#9c179e"
            ],
            [
             0.4444444444444444,
             "#bd3786"
            ],
            [
             0.5555555555555556,
             "#d8576b"
            ],
            [
             0.6666666666666666,
             "#ed7953"
            ],
            [
             0.7777777777777778,
             "#fb9f3a"
            ],
            [
             0.8888888888888888,
             "#fdca26"
            ],
            [
             1,
             "#f0f921"
            ]
           ]
          },
          "colorway": [
           "#636efa",
           "#EF553B",
           "#00cc96",
           "#ab63fa",
           "#FFA15A",
           "#19d3f3",
           "#FF6692",
           "#B6E880",
           "#FF97FF",
           "#FECB52"
          ],
          "font": {
           "color": "#2a3f5f"
          },
          "geo": {
           "bgcolor": "white",
           "lakecolor": "white",
           "landcolor": "#E5ECF6",
           "showlakes": true,
           "showland": true,
           "subunitcolor": "white"
          },
          "hoverlabel": {
           "align": "left"
          },
          "hovermode": "closest",
          "mapbox": {
           "style": "light"
          },
          "paper_bgcolor": "white",
          "plot_bgcolor": "#E5ECF6",
          "polar": {
           "angularaxis": {
            "gridcolor": "white",
            "linecolor": "white",
            "ticks": ""
           },
           "bgcolor": "#E5ECF6",
           "radialaxis": {
            "gridcolor": "white",
            "linecolor": "white",
            "ticks": ""
           }
          },
          "scene": {
           "xaxis": {
            "backgroundcolor": "#E5ECF6",
            "gridcolor": "white",
            "gridwidth": 2,
            "linecolor": "white",
            "showbackground": true,
            "ticks": "",
            "zerolinecolor": "white"
           },
           "yaxis": {
            "backgroundcolor": "#E5ECF6",
            "gridcolor": "white",
            "gridwidth": 2,
            "linecolor": "white",
            "showbackground": true,
            "ticks": "",
            "zerolinecolor": "white"
           },
           "zaxis": {
            "backgroundcolor": "#E5ECF6",
            "gridcolor": "white",
            "gridwidth": 2,
            "linecolor": "white",
            "showbackground": true,
            "ticks": "",
            "zerolinecolor": "white"
           }
          },
          "shapedefaults": {
           "line": {
            "color": "#2a3f5f"
           }
          },
          "ternary": {
           "aaxis": {
            "gridcolor": "white",
            "linecolor": "white",
            "ticks": ""
           },
           "baxis": {
            "gridcolor": "white",
            "linecolor": "white",
            "ticks": ""
           },
           "bgcolor": "#E5ECF6",
           "caxis": {
            "gridcolor": "white",
            "linecolor": "white",
            "ticks": ""
           }
          },
          "title": {
           "x": 0.05
          },
          "xaxis": {
           "automargin": true,
           "gridcolor": "white",
           "linecolor": "white",
           "ticks": "",
           "title": {
            "standoff": 15
           },
           "zerolinecolor": "white",
           "zerolinewidth": 2
          },
          "yaxis": {
           "automargin": true,
           "gridcolor": "white",
           "linecolor": "white",
           "ticks": "",
           "title": {
            "standoff": 15
           },
           "zerolinecolor": "white",
           "zerolinewidth": 2
          }
         }
        },
        "title": {
         "text": "Shot Location"
        },
        "width": 600
       }
      },
      "text/html": "<div>                            <div id=\"00458476-e723-47f0-8776-65d219099b54\" class=\"plotly-graph-div\" style=\"height:600px; width:600px;\"></div>            <script type=\"text/javascript\">                require([\"plotly\"], function(Plotly) {                    window.PLOTLYENV=window.PLOTLYENV || {};                                    if (document.getElementById(\"00458476-e723-47f0-8776-65d219099b54\")) {                    Plotly.newPlot(                        \"00458476-e723-47f0-8776-65d219099b54\",                        [{\"mode\": \"markers\", \"type\": \"scatter\", \"x\": [9, 2, -6, 0, -1, 0, 0, 150, -1, -8, 9, 6, -13, -9, 18, -8, 7, -40, 2, 15, -3, 231, 0, 5, 230, -12, 0, -227, -222, -151, -7, 0, -5, -49, 9, 10, -107, 4, 0, 1, -222, -41, 22, 171, 177, 221, 3], \"y\": [29, -5, 12, 4, 12, 0, 0, 216, 7, 17, 43, 17, 27, 180, 55, 24, 0, 134, 43, 20, 10, 48, 0, -2, 74, 26, 33, -10, -2, 201, 27, 20, 1, 71, 54, 12, 25, 34, 0, 13, -8, 105, 58, 184, 206, 50, 0]}],                        {\"height\": 600, \"showlegend\": false, \"template\": {\"data\": {\"bar\": [{\"error_x\": {\"color\": \"#2a3f5f\"}, \"error_y\": {\"color\": \"#2a3f5f\"}, \"marker\": {\"line\": {\"color\": \"#E5ECF6\", \"width\": 0.5}}, \"type\": \"bar\"}], \"barpolar\": [{\"marker\": {\"line\": {\"color\": \"#E5ECF6\", \"width\": 0.5}}, \"type\": \"barpolar\"}], \"carpet\": [{\"aaxis\": {\"endlinecolor\": \"#2a3f5f\", \"gridcolor\": \"white\", \"linecolor\": \"white\", \"minorgridcolor\": \"white\", \"startlinecolor\": \"#2a3f5f\"}, \"baxis\": {\"endlinecolor\": \"#2a3f5f\", \"gridcolor\": \"white\", \"linecolor\": \"white\", \"minorgridcolor\": \"white\", \"startlinecolor\": \"#2a3f5f\"}, \"type\": \"carpet\"}], \"choropleth\": [{\"colorbar\": {\"outlinewidth\": 0, \"ticks\": \"\"}, \"type\": \"choropleth\"}], \"contour\": [{\"colorbar\": {\"outlinewidth\": 0, \"ticks\": \"\"}, \"colorscale\": [[0.0, \"#0d0887\"], [0.1111111111111111, \"#46039f\"], [0.2222222222222222, \"#7201a8\"], [0.3333333333333333, \"#9c179e\"], [0.4444444444444444, \"#bd3786\"], [0.5555555555555556, \"#d8576b\"], [0.6666666666666666, \"#ed7953\"], [0.7777777777777778, \"#fb9f3a\"], [0.8888888888888888, \"#fdca26\"], [1.0, \"#f0f921\"]], \"type\": \"contour\"}], \"contourcarpet\": [{\"colorbar\": {\"outlinewidth\": 0, \"ticks\": \"\"}, \"type\": \"contourcarpet\"}], \"heatmap\": [{\"colorbar\": {\"outlinewidth\": 0, \"ticks\": \"\"}, \"colorscale\": [[0.0, \"#0d0887\"], [0.1111111111111111, \"#46039f\"], [0.2222222222222222, \"#7201a8\"], [0.3333333333333333, \"#9c179e\"], [0.4444444444444444, \"#bd3786\"], [0.5555555555555556, \"#d8576b\"], [0.6666666666666666, \"#ed7953\"], [0.7777777777777778, \"#fb9f3a\"], [0.8888888888888888, \"#fdca26\"], [1.0, \"#f0f921\"]], \"type\": \"heatmap\"}], \"heatmapgl\": [{\"colorbar\": {\"outlinewidth\": 0, \"ticks\": \"\"}, \"colorscale\": [[0.0, \"#0d0887\"], [0.1111111111111111, \"#46039f\"], [0.2222222222222222, \"#7201a8\"], [0.3333333333333333, \"#9c179e\"], [0.4444444444444444, \"#bd3786\"], [0.5555555555555556, \"#d8576b\"], [0.6666666666666666, \"#ed7953\"], [0.7777777777777778, \"#fb9f3a\"], [0.8888888888888888, \"#fdca26\"], [1.0, \"#f0f921\"]], \"type\": \"heatmapgl\"}], \"histogram\": [{\"marker\": {\"colorbar\": {\"outlinewidth\": 0, \"ticks\": \"\"}}, \"type\": \"histogram\"}], \"histogram2d\": [{\"colorbar\": {\"outlinewidth\": 0, \"ticks\": \"\"}, \"colorscale\": [[0.0, \"#0d0887\"], [0.1111111111111111, \"#46039f\"], [0.2222222222222222, \"#7201a8\"], [0.3333333333333333, \"#9c179e\"], [0.4444444444444444, \"#bd3786\"], [0.5555555555555556, \"#d8576b\"], [0.6666666666666666, \"#ed7953\"], [0.7777777777777778, \"#fb9f3a\"], [0.8888888888888888, \"#fdca26\"], [1.0, \"#f0f921\"]], \"type\": \"histogram2d\"}], \"histogram2dcontour\": [{\"colorbar\": {\"outlinewidth\": 0, \"ticks\": \"\"}, \"colorscale\": [[0.0, \"#0d0887\"], [0.1111111111111111, \"#46039f\"], [0.2222222222222222, \"#7201a8\"], [0.3333333333333333, \"#9c179e\"], [0.4444444444444444, \"#bd3786\"], [0.5555555555555556, \"#d8576b\"], [0.6666666666666666, \"#ed7953\"], [0.7777777777777778, \"#fb9f3a\"], [0.8888888888888888, \"#fdca26\"], [1.0, \"#f0f921\"]], \"type\": \"histogram2dcontour\"}], \"mesh3d\": [{\"colorbar\": {\"outlinewidth\": 0, \"ticks\": \"\"}, \"type\": \"mesh3d\"}], \"parcoords\": [{\"line\": {\"colorbar\": {\"outlinewidth\": 0, \"ticks\": \"\"}}, \"type\": \"parcoords\"}], \"pie\": [{\"automargin\": true, \"type\": \"pie\"}], \"scatter\": [{\"marker\": {\"colorbar\": {\"outlinewidth\": 0, \"ticks\": \"\"}}, \"type\": \"scatter\"}], \"scatter3d\": [{\"line\": {\"colorbar\": {\"outlinewidth\": 0, \"ticks\": \"\"}}, \"marker\": {\"colorbar\": {\"outlinewidth\": 0, \"ticks\": \"\"}}, \"type\": \"scatter3d\"}], \"scattercarpet\": [{\"marker\": {\"colorbar\": {\"outlinewidth\": 0, \"ticks\": \"\"}}, \"type\": \"scattercarpet\"}], \"scattergeo\": [{\"marker\": {\"colorbar\": {\"outlinewidth\": 0, \"ticks\": \"\"}}, \"type\": \"scattergeo\"}], \"scattergl\": [{\"marker\": {\"colorbar\": {\"outlinewidth\": 0, \"ticks\": \"\"}}, \"type\": \"scattergl\"}], \"scattermapbox\": [{\"marker\": {\"colorbar\": {\"outlinewidth\": 0, \"ticks\": \"\"}}, \"type\": \"scattermapbox\"}], \"scatterpolar\": [{\"marker\": {\"colorbar\": {\"outlinewidth\": 0, \"ticks\": \"\"}}, \"type\": \"scatterpolar\"}], \"scatterpolargl\": [{\"marker\": {\"colorbar\": {\"outlinewidth\": 0, \"ticks\": \"\"}}, \"type\": \"scatterpolargl\"}], \"scatterternary\": [{\"marker\": {\"colorbar\": {\"outlinewidth\": 0, \"ticks\": \"\"}}, \"type\": \"scatterternary\"}], \"surface\": [{\"colorbar\": {\"outlinewidth\": 0, \"ticks\": \"\"}, \"colorscale\": [[0.0, \"#0d0887\"], [0.1111111111111111, \"#46039f\"], [0.2222222222222222, \"#7201a8\"], [0.3333333333333333, \"#9c179e\"], [0.4444444444444444, \"#bd3786\"], [0.5555555555555556, \"#d8576b\"], [0.6666666666666666, \"#ed7953\"], [0.7777777777777778, \"#fb9f3a\"], [0.8888888888888888, \"#fdca26\"], [1.0, \"#f0f921\"]], \"type\": \"surface\"}], \"table\": [{\"cells\": {\"fill\": {\"color\": \"#EBF0F8\"}, \"line\": {\"color\": \"white\"}}, \"header\": {\"fill\": {\"color\": \"#C8D4E3\"}, \"line\": {\"color\": \"white\"}}, \"type\": \"table\"}]}, \"layout\": {\"annotationdefaults\": {\"arrowcolor\": \"#2a3f5f\", \"arrowhead\": 0, \"arrowwidth\": 1}, \"autotypenumbers\": \"strict\", \"coloraxis\": {\"colorbar\": {\"outlinewidth\": 0, \"ticks\": \"\"}}, \"colorscale\": {\"diverging\": [[0, \"#8e0152\"], [0.1, \"#c51b7d\"], [0.2, \"#de77ae\"], [0.3, \"#f1b6da\"], [0.4, \"#fde0ef\"], [0.5, \"#f7f7f7\"], [0.6, \"#e6f5d0\"], [0.7, \"#b8e186\"], [0.8, \"#7fbc41\"], [0.9, \"#4d9221\"], [1, \"#276419\"]], \"sequential\": [[0.0, \"#0d0887\"], [0.1111111111111111, \"#46039f\"], [0.2222222222222222, \"#7201a8\"], [0.3333333333333333, \"#9c179e\"], [0.4444444444444444, \"#bd3786\"], [0.5555555555555556, \"#d8576b\"], [0.6666666666666666, \"#ed7953\"], [0.7777777777777778, \"#fb9f3a\"], [0.8888888888888888, \"#fdca26\"], [1.0, \"#f0f921\"]], \"sequentialminus\": [[0.0, \"#0d0887\"], [0.1111111111111111, \"#46039f\"], [0.2222222222222222, \"#7201a8\"], [0.3333333333333333, \"#9c179e\"], [0.4444444444444444, \"#bd3786\"], [0.5555555555555556, \"#d8576b\"], [0.6666666666666666, \"#ed7953\"], [0.7777777777777778, \"#fb9f3a\"], [0.8888888888888888, \"#fdca26\"], [1.0, \"#f0f921\"]]}, \"colorway\": [\"#636efa\", \"#EF553B\", \"#00cc96\", \"#ab63fa\", \"#FFA15A\", \"#19d3f3\", \"#FF6692\", \"#B6E880\", \"#FF97FF\", \"#FECB52\"], \"font\": {\"color\": \"#2a3f5f\"}, \"geo\": {\"bgcolor\": \"white\", \"lakecolor\": \"white\", \"landcolor\": \"#E5ECF6\", \"showlakes\": true, \"showland\": true, \"subunitcolor\": \"white\"}, \"hoverlabel\": {\"align\": \"left\"}, \"hovermode\": \"closest\", \"mapbox\": {\"style\": \"light\"}, \"paper_bgcolor\": \"white\", \"plot_bgcolor\": \"#E5ECF6\", \"polar\": {\"angularaxis\": {\"gridcolor\": \"white\", \"linecolor\": \"white\", \"ticks\": \"\"}, \"bgcolor\": \"#E5ECF6\", \"radialaxis\": {\"gridcolor\": \"white\", \"linecolor\": \"white\", \"ticks\": \"\"}}, \"scene\": {\"xaxis\": {\"backgroundcolor\": \"#E5ECF6\", \"gridcolor\": \"white\", \"gridwidth\": 2, \"linecolor\": \"white\", \"showbackground\": true, \"ticks\": \"\", \"zerolinecolor\": \"white\"}, \"yaxis\": {\"backgroundcolor\": \"#E5ECF6\", \"gridcolor\": \"white\", \"gridwidth\": 2, \"linecolor\": \"white\", \"showbackground\": true, \"ticks\": \"\", \"zerolinecolor\": \"white\"}, \"zaxis\": {\"backgroundcolor\": \"#E5ECF6\", \"gridcolor\": \"white\", \"gridwidth\": 2, \"linecolor\": \"white\", \"showbackground\": true, \"ticks\": \"\", \"zerolinecolor\": \"white\"}}, \"shapedefaults\": {\"line\": {\"color\": \"#2a3f5f\"}}, \"ternary\": {\"aaxis\": {\"gridcolor\": \"white\", \"linecolor\": \"white\", \"ticks\": \"\"}, \"baxis\": {\"gridcolor\": \"white\", \"linecolor\": \"white\", \"ticks\": \"\"}, \"bgcolor\": \"#E5ECF6\", \"caxis\": {\"gridcolor\": \"white\", \"linecolor\": \"white\", \"ticks\": \"\"}}, \"title\": {\"x\": 0.05}, \"xaxis\": {\"automargin\": true, \"gridcolor\": \"white\", \"linecolor\": \"white\", \"ticks\": \"\", \"title\": {\"standoff\": 15}, \"zerolinecolor\": \"white\", \"zerolinewidth\": 2}, \"yaxis\": {\"automargin\": true, \"gridcolor\": \"white\", \"linecolor\": \"white\", \"ticks\": \"\", \"title\": {\"standoff\": 15}, \"zerolinecolor\": \"white\", \"zerolinewidth\": 2}}}, \"title\": {\"text\": \"Shot Location\"}, \"width\": 600},                        {\"responsive\": true}                    ).then(function(){\n                            \nvar gd = document.getElementById('00458476-e723-47f0-8776-65d219099b54');\nvar x = new MutationObserver(function (mutations, observer) {{\n        var display = window.getComputedStyle(gd).display;\n        if (!display || display === 'none') {{\n            console.log([gd, 'removed!']);\n            Plotly.purge(gd);\n            observer.disconnect();\n        }}\n}});\n\n// Listen for the removal of the full notebook cells\nvar notebookContainer = gd.closest('#notebook-container');\nif (notebookContainer) {{\n    x.observe(notebookContainer, {childList: true});\n}}\n\n// Listen for the clearing of the current output cell\nvar outputEl = gd.closest('.output');\nif (outputEl) {{\n    x.observe(outputEl, {childList: true});\n}}\n\n                        })                };                });            </script>        </div>"
     },
     "metadata": {}
    }
   ],
   "source": [
    "\n",
    "\n",
    "\n",
    "#plot missed shots by Steph Curry\n",
    "\n",
    "shot_trace = go.Scatter(\n",
    "    x = fga_curry[fga_curry['SHOT_MADE_FLAG'] == 1]['LOC_X'],\n",
    "    y = fga_curry[fga_curry['SHOT_MADE_FLAG'] == 1]['LOC_Y'],\n",
    "    mode = 'markers'\n",
    ")\n",
    "\n",
    "data = [shot_trace]\n",
    "layout = go.Layout(\n",
    "    showlegend=False,\n",
    "    height=600,\n",
    "    width=600,\n",
    "    title = 'Shot Location'\n",
    ")\n",
    "fig = go.Figure(data=data, layout=layout)\n",
    "iplot(fig)"
   ]
  },
  {
   "cell_type": "code",
   "execution_count": 92,
   "metadata": {},
   "outputs": [],
   "source": [
    "#Creating the court \n",
    "\n",
    "#The X-axis and Y-axis of the court chart will range from -300 to 300 and -100 to 500 respectivvely, 10 units on the chart scale is equal to 1 feet.\n",
    "\n",
    "#here, the point (x0, y0) and (x1, y1) represents the bottom-left and top-right points of the rectangle\n",
    "\n",
    "court_shapes = []\n",
    "\n",
    "outer_lines_shape = dict(\n",
    "    type='rect',\n",
    "    xref='x',\n",
    "    yref='y',\n",
    "    x0='-250',\n",
    "    y0='-47.5',\n",
    "    x1='250',\n",
    "    y1='422.5',\n",
    "    line=dict(\n",
    "      color = \"#0a0a0a\", #'rgba(10, 10, 10, 1)',\n",
    "      width = 1\n",
    "  )\n",
    ")\n",
    "\n",
    "court_shapes.append(outer_lines_shape)\n",
    "\n",
    "#bball hoop, we draw it using a circle shape. The center of the circle is at the origin of the graph, with the radius being 7.5 unit. \n",
    "\n",
    "hoop_shape = dict(\n",
    "    type='circle',\n",
    "    xref='x',\n",
    "    yref='y',\n",
    "    x0='7.5',\n",
    "    y0='7.5',\n",
    "    x1='-7.5',\n",
    "    y1='-7.5',\n",
    "    line=dict(\n",
    "        color = \"#0a0a0a\", #'rgba=(10, 10, 10, 1)',\n",
    "        width = 1\n",
    "    )\n",
    ")\n",
    "court_shapes.append(hoop_shape)\n",
    "\n",
    "#basket backboard \n",
    "#The backboard is a raised vvertical board with a basket attached. It's 72 inches (60 unit) wide. \n",
    "\n",
    "backboard_shape = dict(\n",
    "    type='rect',\n",
    "    xref='x',\n",
    "    yref='y',\n",
    "    x0='-30',\n",
    "    y0='-7.5',\n",
    "    x1='30',\n",
    "    y1='-6.5',\n",
    "    line=dict(\n",
    "        color = \"#0a0a0a\", #'rgba=(10, 10, 10, 1)',\n",
    "        width=1\n",
    "    ),\n",
    "    fillcolor = \"#0a0a0a\", #'rgba=(10, 10, 10, 1)'\n",
    ")\n",
    "court_shapes.append(backboard_shape)\n",
    "\n",
    "\n",
    "#outer box of three-second area\n",
    "# it's a rectangle with 16ft. in width and 19ft in lenght \n",
    "\n",
    "outer_three_sec_shape = dict(\n",
    "    type='rect',\n",
    "    xref='x',\n",
    "    yref='y',\n",
    "    x0='-80',\n",
    "    y0='-47.5',\n",
    "    x1='80',\n",
    "    y1='143.5',\n",
    "    line=dict(\n",
    "        color = \"#0a0a0a\", #'rgba=(10, 10, 10, 1)',\n",
    "        width=1\n",
    "    )\n",
    ")\n",
    "court_shapes.append(outer_three_sec_shape)\n",
    "\n",
    "\n",
    "#inner box of three-second area, it's a rectangle with 12ft. in width and 19ft in length. \n",
    "\n",
    "inner_three_sec_shape = dict(\n",
    "  type='rect',\n",
    "  xref='x',\n",
    "  yref='y',\n",
    "  x0='-60',\n",
    "  y0='-47.5',\n",
    "  x1='60',\n",
    "  y1='143.5',\n",
    "  line=dict(\n",
    "      color = \"#0a0a0a\", #'rgba(10, 10, 10, 1)',\n",
    "      width=1\n",
    "  )\n",
    ")\n",
    "\n",
    "court_shapes.append(inner_three_sec_shape)\n",
    "\n",
    "\n",
    "#Three-point line (left) -- The point (x0, y0) and (x1, y1) represnets the edges of the line. \n",
    "left_line_shape = dict(\n",
    "  type='line',\n",
    "  xref='x',\n",
    "  yref='y',\n",
    "  x0='-220',\n",
    "  y0='-47.5',\n",
    "  x1='-220',\n",
    "  y1='92.5',\n",
    "  line=dict(\n",
    "      color = \"#0a0a0a\", #'rgba(10, 10, 10, 1)',\n",
    "      width = 1\n",
    "  )\n",
    ")\n",
    "\n",
    "court_shapes.append(left_line_shape)\n",
    "\n",
    "#three-point line (right)\n",
    "right_line_shape = dict(\n",
    "  type='line',\n",
    "  xref='x',\n",
    "  yref='y',\n",
    "  x0='220',\n",
    "  y0='-47.5',\n",
    "  x1='220',\n",
    "  y1='92.5',\n",
    "  line=dict(\n",
    "      color = \"#0a0a0a\", #'rgba(10, 10, 10, 1)',\n",
    "      width = 1\n",
    "  )\n",
    ")\n",
    "\n",
    "court_shapes.append(right_line_shape)\n",
    "\n",
    "\n",
    "#three-point arc, we used Curvve Command (C) to draw the half circle (arc) path. \n",
    "\n",
    "three_point_arc_shape = dict(\n",
    "  type='path',\n",
    "  xref='x',\n",
    "  yref='y',\n",
    "  path='M -220 92.5 C -70 300, 70 300, 220 92.5',\n",
    "  line=dict(\n",
    "      color = \"#0a0a0a\", #'rgba(10, 10, 10, 1)',\n",
    "      width = 1\n",
    "  )\n",
    ")\n",
    "\n",
    "court_shapes.append(three_point_arc_shape)\n",
    "\n",
    "\n",
    "#Center cicle \n",
    "\n",
    "center_circle_shape = dict(\n",
    "  type='circle',\n",
    "  xref='x',\n",
    "  yref='y',\n",
    "  x0='60',\n",
    "  y0='482.5',\n",
    "  x1='-60',\n",
    "  y1='362.5',\n",
    "  line=dict(\n",
    "      color = \"#0a0a0a\", #'rgba(10, 10, 10, 1)',\n",
    "      width = 1\n",
    "  )\n",
    ")\n",
    "\n",
    "court_shapes.append(center_circle_shape)\n",
    "\n",
    "#restraining circle \n",
    "res_circle_shape = dict(\n",
    "  type='circle',\n",
    "  xref='x',\n",
    "  yref='y',\n",
    "  x0='20',\n",
    "  y0='442.5',\n",
    "  x1='-20',\n",
    "  y1='402.5',\n",
    "  line=dict(\n",
    "      color = \"#0a0a0a\",#'rgba(10, 10, 10, 1)',\n",
    "      width = 1\n",
    "  )\n",
    ")\n",
    "\n",
    "court_shapes.append(res_circle_shape)\n",
    "\n",
    "#free-throw circle \n",
    "free_throw_circle_shape = dict(\n",
    "  type='circle',\n",
    "  xref='x',\n",
    "  yref='y',\n",
    "  x0='60',\n",
    "  y0='200',\n",
    "  x1='-60',\n",
    "  y1='80',\n",
    "  line=dict(\n",
    "      color = \"#0a0a0a\",#'rgba(10, 10, 10, 1)',\n",
    "      width = 1\n",
    "  )\n",
    ")\n",
    "\n",
    "court_shapes.append(free_throw_circle_shape)\n",
    "\n",
    "#restricted area, we are using the dash property to style the circle\n",
    "res_area_shape = dict(\n",
    "  type='circle',\n",
    "  xref='x',\n",
    "  yref='y',\n",
    "  x0='40',\n",
    "  y0='40',\n",
    "  x1='-40',\n",
    "  y1='-40',\n",
    "  line=dict(\n",
    "    color = \"#0a0a0a\", #'rgba(10, 10, 10, 1)',\n",
    "    width = 1,\n",
    "    dash = 'dot'\n",
    "  )\n",
    ")\n",
    "\n",
    "court_shapes.append(res_area_shape)\n"
   ]
  },
  {
   "cell_type": "code",
   "execution_count": 113,
   "metadata": {},
   "outputs": [
    {
     "output_type": "display_data",
     "data": {
      "application/vnd.plotly.v1+json": {
       "config": {
        "linkText": "Export to plot.ly",
        "plotlyServerURL": "https://plot.ly",
        "showLink": false
       },
       "data": [
        {
         "marker": {
          "color": "#ff0000",
          "line": {
           "color": "rgb(0, 0, 0, 1)",
           "width": 1
          },
          "size": 5
         },
         "mode": "markers",
         "name": "Missed Shot",
         "type": "scatter",
         "x": [
          229,
          11,
          6,
          7,
          -41,
          -182,
          -2,
          -4,
          57,
          -229,
          234,
          -172,
          0,
          -63,
          8,
          -212,
          -1,
          -24,
          224,
          159,
          -18,
          14,
          150,
          -39,
          33,
          -230,
          -11,
          -222,
          104,
          0,
          -9,
          204,
          224,
          -187,
          226,
          177,
          -149,
          236,
          2,
          44,
          -38,
          -5,
          -226,
          1,
          9,
          236,
          37,
          -133,
          2,
          224,
          155,
          2,
          -230,
          0,
          -161,
          0,
          143,
          20,
          -228,
          -153,
          222,
          227,
          -2,
          31,
          13,
          226,
          -226,
          -25,
          -116,
          -225,
          100,
          -180,
          10,
          76,
          -36,
          -9,
          -2,
          186,
          -222,
          40,
          193,
          232,
          -2,
          -160,
          -156,
          -225
         ],
         "y": [
          21,
          246,
          6,
          20,
          117,
          166,
          -2,
          -4,
          249,
          57,
          15,
          212,
          38,
          259,
          27,
          163,
          80,
          31,
          141,
          219,
          57,
          13,
          201,
          99,
          7,
          49,
          121,
          15,
          229,
          0,
          1,
          137,
          19,
          183,
          117,
          124,
          216,
          31,
          73,
          255,
          205,
          47,
          -26,
          52,
          247,
          54,
          184,
          239,
          51,
          115,
          262,
          37,
          57,
          68,
          216,
          34,
          4,
          51,
          67,
          231,
          18,
          36,
          46,
          39,
          60,
          33,
          -15,
          36,
          246,
          27,
          15,
          221,
          27,
          263,
          104,
          94,
          75,
          167,
          -4,
          256,
          178,
          59,
          22,
          200,
          195,
          -12
         ]
        },
        {
         "marker": {
          "color": "#00ff00",
          "line": {
           "color": "rgb(0, 0, 0, 1)",
           "width": 1
          },
          "size": 5
         },
         "mode": "markers",
         "name": "Made Shot",
         "type": "scatter",
         "x": [
          9,
          2,
          -6,
          0,
          -1,
          0,
          0,
          150,
          -1,
          -8,
          9,
          6,
          -13,
          -9,
          18,
          -8,
          7,
          -40,
          2,
          15,
          -3,
          231,
          0,
          5,
          230,
          -12,
          0,
          -227,
          -222,
          -151,
          -7,
          0,
          -5,
          -49,
          9,
          10,
          -107,
          4,
          0,
          1,
          -222,
          -41,
          22,
          171,
          177,
          221,
          3
         ],
         "y": [
          29,
          -5,
          12,
          4,
          12,
          0,
          0,
          216,
          7,
          17,
          43,
          17,
          27,
          180,
          55,
          24,
          0,
          134,
          43,
          20,
          10,
          48,
          0,
          -2,
          74,
          26,
          33,
          -10,
          -2,
          201,
          27,
          20,
          1,
          71,
          54,
          12,
          25,
          34,
          0,
          13,
          -8,
          105,
          58,
          184,
          206,
          50,
          0
         ]
        }
       ],
       "layout": {
        "height": 600,
        "shapes": [
         {
          "line": {
           "color": "#0a0a0a",
           "width": 1
          },
          "type": "rect",
          "x0": "-250",
          "x1": "250",
          "xref": "x",
          "y0": "-47.5",
          "y1": "422.5",
          "yref": "y"
         },
         {
          "line": {
           "color": "#0a0a0a",
           "width": 1
          },
          "type": "circle",
          "x0": "7.5",
          "x1": "-7.5",
          "xref": "x",
          "y0": "7.5",
          "y1": "-7.5",
          "yref": "y"
         },
         {
          "fillcolor": "#0a0a0a",
          "line": {
           "color": "#0a0a0a",
           "width": 1
          },
          "type": "rect",
          "x0": "-30",
          "x1": "30",
          "xref": "x",
          "y0": "-7.5",
          "y1": "-6.5",
          "yref": "y"
         },
         {
          "line": {
           "color": "#0a0a0a",
           "width": 1
          },
          "type": "rect",
          "x0": "-80",
          "x1": "80",
          "xref": "x",
          "y0": "-47.5",
          "y1": "143.5",
          "yref": "y"
         },
         {
          "line": {
           "color": "#0a0a0a",
           "width": 1
          },
          "type": "rect",
          "x0": "-60",
          "x1": "60",
          "xref": "x",
          "y0": "-47.5",
          "y1": "143.5",
          "yref": "y"
         },
         {
          "line": {
           "color": "#0a0a0a",
           "width": 1
          },
          "type": "line",
          "x0": "-220",
          "x1": "-220",
          "xref": "x",
          "y0": "-47.5",
          "y1": "92.5",
          "yref": "y"
         },
         {
          "line": {
           "color": "#0a0a0a",
           "width": 1
          },
          "type": "line",
          "x0": "220",
          "x1": "220",
          "xref": "x",
          "y0": "-47.5",
          "y1": "92.5",
          "yref": "y"
         },
         {
          "line": {
           "color": "#0a0a0a",
           "width": 1
          },
          "path": "M -220 92.5 C -70 300, 70 300, 220 92.5",
          "type": "path",
          "xref": "x",
          "yref": "y"
         },
         {
          "line": {
           "color": "#0a0a0a",
           "width": 1
          },
          "type": "circle",
          "x0": "60",
          "x1": "-60",
          "xref": "x",
          "y0": "482.5",
          "y1": "362.5",
          "yref": "y"
         },
         {
          "line": {
           "color": "#0a0a0a",
           "width": 1
          },
          "type": "circle",
          "x0": "20",
          "x1": "-20",
          "xref": "x",
          "y0": "442.5",
          "y1": "402.5",
          "yref": "y"
         },
         {
          "line": {
           "color": "#0a0a0a",
           "width": 1
          },
          "type": "circle",
          "x0": "60",
          "x1": "-60",
          "xref": "x",
          "y0": "200",
          "y1": "80",
          "yref": "y"
         },
         {
          "line": {
           "color": "#0a0a0a",
           "dash": "dot",
           "width": 1
          },
          "type": "circle",
          "x0": "40",
          "x1": "-40",
          "xref": "x",
          "y0": "40",
          "y1": "-40",
          "yref": "y"
         }
        ],
        "showlegend": true,
        "template": {
         "data": {
          "bar": [
           {
            "error_x": {
             "color": "#2a3f5f"
            },
            "error_y": {
             "color": "#2a3f5f"
            },
            "marker": {
             "line": {
              "color": "#E5ECF6",
              "width": 0.5
             }
            },
            "type": "bar"
           }
          ],
          "barpolar": [
           {
            "marker": {
             "line": {
              "color": "#E5ECF6",
              "width": 0.5
             }
            },
            "type": "barpolar"
           }
          ],
          "carpet": [
           {
            "aaxis": {
             "endlinecolor": "#2a3f5f",
             "gridcolor": "white",
             "linecolor": "white",
             "minorgridcolor": "white",
             "startlinecolor": "#2a3f5f"
            },
            "baxis": {
             "endlinecolor": "#2a3f5f",
             "gridcolor": "white",
             "linecolor": "white",
             "minorgridcolor": "white",
             "startlinecolor": "#2a3f5f"
            },
            "type": "carpet"
           }
          ],
          "choropleth": [
           {
            "colorbar": {
             "outlinewidth": 0,
             "ticks": ""
            },
            "type": "choropleth"
           }
          ],
          "contour": [
           {
            "colorbar": {
             "outlinewidth": 0,
             "ticks": ""
            },
            "colorscale": [
             [
              0,
              "#0d0887"
             ],
             [
              0.1111111111111111,
              "#46039f"
             ],
             [
              0.2222222222222222,
              "#7201a8"
             ],
             [
              0.3333333333333333,
              "#9c179e"
             ],
             [
              0.4444444444444444,
              "#bd3786"
             ],
             [
              0.5555555555555556,
              "#d8576b"
             ],
             [
              0.6666666666666666,
              "#ed7953"
             ],
             [
              0.7777777777777778,
              "#fb9f3a"
             ],
             [
              0.8888888888888888,
              "#fdca26"
             ],
             [
              1,
              "#f0f921"
             ]
            ],
            "type": "contour"
           }
          ],
          "contourcarpet": [
           {
            "colorbar": {
             "outlinewidth": 0,
             "ticks": ""
            },
            "type": "contourcarpet"
           }
          ],
          "heatmap": [
           {
            "colorbar": {
             "outlinewidth": 0,
             "ticks": ""
            },
            "colorscale": [
             [
              0,
              "#0d0887"
             ],
             [
              0.1111111111111111,
              "#46039f"
             ],
             [
              0.2222222222222222,
              "#7201a8"
             ],
             [
              0.3333333333333333,
              "#9c179e"
             ],
             [
              0.4444444444444444,
              "#bd3786"
             ],
             [
              0.5555555555555556,
              "#d8576b"
             ],
             [
              0.6666666666666666,
              "#ed7953"
             ],
             [
              0.7777777777777778,
              "#fb9f3a"
             ],
             [
              0.8888888888888888,
              "#fdca26"
             ],
             [
              1,
              "#f0f921"
             ]
            ],
            "type": "heatmap"
           }
          ],
          "heatmapgl": [
           {
            "colorbar": {
             "outlinewidth": 0,
             "ticks": ""
            },
            "colorscale": [
             [
              0,
              "#0d0887"
             ],
             [
              0.1111111111111111,
              "#46039f"
             ],
             [
              0.2222222222222222,
              "#7201a8"
             ],
             [
              0.3333333333333333,
              "#9c179e"
             ],
             [
              0.4444444444444444,
              "#bd3786"
             ],
             [
              0.5555555555555556,
              "#d8576b"
             ],
             [
              0.6666666666666666,
              "#ed7953"
             ],
             [
              0.7777777777777778,
              "#fb9f3a"
             ],
             [
              0.8888888888888888,
              "#fdca26"
             ],
             [
              1,
              "#f0f921"
             ]
            ],
            "type": "heatmapgl"
           }
          ],
          "histogram": [
           {
            "marker": {
             "colorbar": {
              "outlinewidth": 0,
              "ticks": ""
             }
            },
            "type": "histogram"
           }
          ],
          "histogram2d": [
           {
            "colorbar": {
             "outlinewidth": 0,
             "ticks": ""
            },
            "colorscale": [
             [
              0,
              "#0d0887"
             ],
             [
              0.1111111111111111,
              "#46039f"
             ],
             [
              0.2222222222222222,
              "#7201a8"
             ],
             [
              0.3333333333333333,
              "#9c179e"
             ],
             [
              0.4444444444444444,
              "#bd3786"
             ],
             [
              0.5555555555555556,
              "#d8576b"
             ],
             [
              0.6666666666666666,
              "#ed7953"
             ],
             [
              0.7777777777777778,
              "#fb9f3a"
             ],
             [
              0.8888888888888888,
              "#fdca26"
             ],
             [
              1,
              "#f0f921"
             ]
            ],
            "type": "histogram2d"
           }
          ],
          "histogram2dcontour": [
           {
            "colorbar": {
             "outlinewidth": 0,
             "ticks": ""
            },
            "colorscale": [
             [
              0,
              "#0d0887"
             ],
             [
              0.1111111111111111,
              "#46039f"
             ],
             [
              0.2222222222222222,
              "#7201a8"
             ],
             [
              0.3333333333333333,
              "#9c179e"
             ],
             [
              0.4444444444444444,
              "#bd3786"
             ],
             [
              0.5555555555555556,
              "#d8576b"
             ],
             [
              0.6666666666666666,
              "#ed7953"
             ],
             [
              0.7777777777777778,
              "#fb9f3a"
             ],
             [
              0.8888888888888888,
              "#fdca26"
             ],
             [
              1,
              "#f0f921"
             ]
            ],
            "type": "histogram2dcontour"
           }
          ],
          "mesh3d": [
           {
            "colorbar": {
             "outlinewidth": 0,
             "ticks": ""
            },
            "type": "mesh3d"
           }
          ],
          "parcoords": [
           {
            "line": {
             "colorbar": {
              "outlinewidth": 0,
              "ticks": ""
             }
            },
            "type": "parcoords"
           }
          ],
          "pie": [
           {
            "automargin": true,
            "type": "pie"
           }
          ],
          "scatter": [
           {
            "marker": {
             "colorbar": {
              "outlinewidth": 0,
              "ticks": ""
             }
            },
            "type": "scatter"
           }
          ],
          "scatter3d": [
           {
            "line": {
             "colorbar": {
              "outlinewidth": 0,
              "ticks": ""
             }
            },
            "marker": {
             "colorbar": {
              "outlinewidth": 0,
              "ticks": ""
             }
            },
            "type": "scatter3d"
           }
          ],
          "scattercarpet": [
           {
            "marker": {
             "colorbar": {
              "outlinewidth": 0,
              "ticks": ""
             }
            },
            "type": "scattercarpet"
           }
          ],
          "scattergeo": [
           {
            "marker": {
             "colorbar": {
              "outlinewidth": 0,
              "ticks": ""
             }
            },
            "type": "scattergeo"
           }
          ],
          "scattergl": [
           {
            "marker": {
             "colorbar": {
              "outlinewidth": 0,
              "ticks": ""
             }
            },
            "type": "scattergl"
           }
          ],
          "scattermapbox": [
           {
            "marker": {
             "colorbar": {
              "outlinewidth": 0,
              "ticks": ""
             }
            },
            "type": "scattermapbox"
           }
          ],
          "scatterpolar": [
           {
            "marker": {
             "colorbar": {
              "outlinewidth": 0,
              "ticks": ""
             }
            },
            "type": "scatterpolar"
           }
          ],
          "scatterpolargl": [
           {
            "marker": {
             "colorbar": {
              "outlinewidth": 0,
              "ticks": ""
             }
            },
            "type": "scatterpolargl"
           }
          ],
          "scatterternary": [
           {
            "marker": {
             "colorbar": {
              "outlinewidth": 0,
              "ticks": ""
             }
            },
            "type": "scatterternary"
           }
          ],
          "surface": [
           {
            "colorbar": {
             "outlinewidth": 0,
             "ticks": ""
            },
            "colorscale": [
             [
              0,
              "#0d0887"
             ],
             [
              0.1111111111111111,
              "#46039f"
             ],
             [
              0.2222222222222222,
              "#7201a8"
             ],
             [
              0.3333333333333333,
              "#9c179e"
             ],
             [
              0.4444444444444444,
              "#bd3786"
             ],
             [
              0.5555555555555556,
              "#d8576b"
             ],
             [
              0.6666666666666666,
              "#ed7953"
             ],
             [
              0.7777777777777778,
              "#fb9f3a"
             ],
             [
              0.8888888888888888,
              "#fdca26"
             ],
             [
              1,
              "#f0f921"
             ]
            ],
            "type": "surface"
           }
          ],
          "table": [
           {
            "cells": {
             "fill": {
              "color": "#EBF0F8"
             },
             "line": {
              "color": "white"
             }
            },
            "header": {
             "fill": {
              "color": "#C8D4E3"
             },
             "line": {
              "color": "white"
             }
            },
            "type": "table"
           }
          ]
         },
         "layout": {
          "annotationdefaults": {
           "arrowcolor": "#2a3f5f",
           "arrowhead": 0,
           "arrowwidth": 1
          },
          "autotypenumbers": "strict",
          "coloraxis": {
           "colorbar": {
            "outlinewidth": 0,
            "ticks": ""
           }
          },
          "colorscale": {
           "diverging": [
            [
             0,
             "#8e0152"
            ],
            [
             0.1,
             "#c51b7d"
            ],
            [
             0.2,
             "#de77ae"
            ],
            [
             0.3,
             "#f1b6da"
            ],
            [
             0.4,
             "#fde0ef"
            ],
            [
             0.5,
             "#f7f7f7"
            ],
            [
             0.6,
             "#e6f5d0"
            ],
            [
             0.7,
             "#b8e186"
            ],
            [
             0.8,
             "#7fbc41"
            ],
            [
             0.9,
             "#4d9221"
            ],
            [
             1,
             "#276419"
            ]
           ],
           "sequential": [
            [
             0,
             "#0d0887"
            ],
            [
             0.1111111111111111,
             "#46039f"
            ],
            [
             0.2222222222222222,
             "#7201a8"
            ],
            [
             0.3333333333333333,
             "#9c179e"
            ],
            [
             0.4444444444444444,
             "#bd3786"
            ],
            [
             0.5555555555555556,
             "#d8576b"
            ],
            [
             0.6666666666666666,
             "#ed7953"
            ],
            [
             0.7777777777777778,
             "#fb9f3a"
            ],
            [
             0.8888888888888888,
             "#fdca26"
            ],
            [
             1,
             "#f0f921"
            ]
           ],
           "sequentialminus": [
            [
             0,
             "#0d0887"
            ],
            [
             0.1111111111111111,
             "#46039f"
            ],
            [
             0.2222222222222222,
             "#7201a8"
            ],
            [
             0.3333333333333333,
             "#9c179e"
            ],
            [
             0.4444444444444444,
             "#bd3786"
            ],
            [
             0.5555555555555556,
             "#d8576b"
            ],
            [
             0.6666666666666666,
             "#ed7953"
            ],
            [
             0.7777777777777778,
             "#fb9f3a"
            ],
            [
             0.8888888888888888,
             "#fdca26"
            ],
            [
             1,
             "#f0f921"
            ]
           ]
          },
          "colorway": [
           "#636efa",
           "#EF553B",
           "#00cc96",
           "#ab63fa",
           "#FFA15A",
           "#19d3f3",
           "#FF6692",
           "#B6E880",
           "#FF97FF",
           "#FECB52"
          ],
          "font": {
           "color": "#2a3f5f"
          },
          "geo": {
           "bgcolor": "white",
           "lakecolor": "white",
           "landcolor": "#E5ECF6",
           "showlakes": true,
           "showland": true,
           "subunitcolor": "white"
          },
          "hoverlabel": {
           "align": "left"
          },
          "hovermode": "closest",
          "mapbox": {
           "style": "light"
          },
          "paper_bgcolor": "white",
          "plot_bgcolor": "#E5ECF6",
          "polar": {
           "angularaxis": {
            "gridcolor": "white",
            "linecolor": "white",
            "ticks": ""
           },
           "bgcolor": "#E5ECF6",
           "radialaxis": {
            "gridcolor": "white",
            "linecolor": "white",
            "ticks": ""
           }
          },
          "scene": {
           "xaxis": {
            "backgroundcolor": "#E5ECF6",
            "gridcolor": "white",
            "gridwidth": 2,
            "linecolor": "white",
            "showbackground": true,
            "ticks": "",
            "zerolinecolor": "white"
           },
           "yaxis": {
            "backgroundcolor": "#E5ECF6",
            "gridcolor": "white",
            "gridwidth": 2,
            "linecolor": "white",
            "showbackground": true,
            "ticks": "",
            "zerolinecolor": "white"
           },
           "zaxis": {
            "backgroundcolor": "#E5ECF6",
            "gridcolor": "white",
            "gridwidth": 2,
            "linecolor": "white",
            "showbackground": true,
            "ticks": "",
            "zerolinecolor": "white"
           }
          },
          "shapedefaults": {
           "line": {
            "color": "#2a3f5f"
           }
          },
          "ternary": {
           "aaxis": {
            "gridcolor": "white",
            "linecolor": "white",
            "ticks": ""
           },
           "baxis": {
            "gridcolor": "white",
            "linecolor": "white",
            "ticks": ""
           },
           "bgcolor": "#E5ECF6",
           "caxis": {
            "gridcolor": "white",
            "linecolor": "white",
            "ticks": ""
           }
          },
          "title": {
           "x": 0.05
          },
          "xaxis": {
           "automargin": true,
           "gridcolor": "white",
           "linecolor": "white",
           "ticks": "",
           "title": {
            "standoff": 15
           },
           "zerolinecolor": "white",
           "zerolinewidth": 2
          },
          "yaxis": {
           "automargin": true,
           "gridcolor": "white",
           "linecolor": "white",
           "ticks": "",
           "title": {
            "standoff": 15
           },
           "zerolinecolor": "white",
           "zerolinewidth": 2
          }
         }
        },
        "title": {
         "text": "Shots by Kelly Oubre Jr. in NBA season 2020-2021"
        },
        "width": 650,
        "xaxis": {
         "range": [
          -300,
          300
         ],
         "showgrid": false
        },
        "yaxis": {
         "range": [
          -100,
          500
         ],
         "showgrid": false
        }
       }
      },
      "text/html": "<div>                            <div id=\"afa44095-6dc8-45f6-82ab-fec7394b0160\" class=\"plotly-graph-div\" style=\"height:600px; width:650px;\"></div>            <script type=\"text/javascript\">                require([\"plotly\"], function(Plotly) {                    window.PLOTLYENV=window.PLOTLYENV || {};                                    if (document.getElementById(\"afa44095-6dc8-45f6-82ab-fec7394b0160\")) {                    Plotly.newPlot(                        \"afa44095-6dc8-45f6-82ab-fec7394b0160\",                        [{\"marker\": {\"color\": \"#ff0000\", \"line\": {\"color\": \"rgb(0, 0, 0, 1)\", \"width\": 1}, \"size\": 5}, \"mode\": \"markers\", \"name\": \"Missed Shot\", \"type\": \"scatter\", \"x\": [229, 11, 6, 7, -41, -182, -2, -4, 57, -229, 234, -172, 0, -63, 8, -212, -1, -24, 224, 159, -18, 14, 150, -39, 33, -230, -11, -222, 104, 0, -9, 204, 224, -187, 226, 177, -149, 236, 2, 44, -38, -5, -226, 1, 9, 236, 37, -133, 2, 224, 155, 2, -230, 0, -161, 0, 143, 20, -228, -153, 222, 227, -2, 31, 13, 226, -226, -25, -116, -225, 100, -180, 10, 76, -36, -9, -2, 186, -222, 40, 193, 232, -2, -160, -156, -225], \"y\": [21, 246, 6, 20, 117, 166, -2, -4, 249, 57, 15, 212, 38, 259, 27, 163, 80, 31, 141, 219, 57, 13, 201, 99, 7, 49, 121, 15, 229, 0, 1, 137, 19, 183, 117, 124, 216, 31, 73, 255, 205, 47, -26, 52, 247, 54, 184, 239, 51, 115, 262, 37, 57, 68, 216, 34, 4, 51, 67, 231, 18, 36, 46, 39, 60, 33, -15, 36, 246, 27, 15, 221, 27, 263, 104, 94, 75, 167, -4, 256, 178, 59, 22, 200, 195, -12]}, {\"marker\": {\"color\": \"#00ff00\", \"line\": {\"color\": \"rgb(0, 0, 0, 1)\", \"width\": 1}, \"size\": 5}, \"mode\": \"markers\", \"name\": \"Made Shot\", \"type\": \"scatter\", \"x\": [9, 2, -6, 0, -1, 0, 0, 150, -1, -8, 9, 6, -13, -9, 18, -8, 7, -40, 2, 15, -3, 231, 0, 5, 230, -12, 0, -227, -222, -151, -7, 0, -5, -49, 9, 10, -107, 4, 0, 1, -222, -41, 22, 171, 177, 221, 3], \"y\": [29, -5, 12, 4, 12, 0, 0, 216, 7, 17, 43, 17, 27, 180, 55, 24, 0, 134, 43, 20, 10, 48, 0, -2, 74, 26, 33, -10, -2, 201, 27, 20, 1, 71, 54, 12, 25, 34, 0, 13, -8, 105, 58, 184, 206, 50, 0]}],                        {\"height\": 600, \"shapes\": [{\"line\": {\"color\": \"#0a0a0a\", \"width\": 1}, \"type\": \"rect\", \"x0\": \"-250\", \"x1\": \"250\", \"xref\": \"x\", \"y0\": \"-47.5\", \"y1\": \"422.5\", \"yref\": \"y\"}, {\"line\": {\"color\": \"#0a0a0a\", \"width\": 1}, \"type\": \"circle\", \"x0\": \"7.5\", \"x1\": \"-7.5\", \"xref\": \"x\", \"y0\": \"7.5\", \"y1\": \"-7.5\", \"yref\": \"y\"}, {\"fillcolor\": \"#0a0a0a\", \"line\": {\"color\": \"#0a0a0a\", \"width\": 1}, \"type\": \"rect\", \"x0\": \"-30\", \"x1\": \"30\", \"xref\": \"x\", \"y0\": \"-7.5\", \"y1\": \"-6.5\", \"yref\": \"y\"}, {\"line\": {\"color\": \"#0a0a0a\", \"width\": 1}, \"type\": \"rect\", \"x0\": \"-80\", \"x1\": \"80\", \"xref\": \"x\", \"y0\": \"-47.5\", \"y1\": \"143.5\", \"yref\": \"y\"}, {\"line\": {\"color\": \"#0a0a0a\", \"width\": 1}, \"type\": \"rect\", \"x0\": \"-60\", \"x1\": \"60\", \"xref\": \"x\", \"y0\": \"-47.5\", \"y1\": \"143.5\", \"yref\": \"y\"}, {\"line\": {\"color\": \"#0a0a0a\", \"width\": 1}, \"type\": \"line\", \"x0\": \"-220\", \"x1\": \"-220\", \"xref\": \"x\", \"y0\": \"-47.5\", \"y1\": \"92.5\", \"yref\": \"y\"}, {\"line\": {\"color\": \"#0a0a0a\", \"width\": 1}, \"type\": \"line\", \"x0\": \"220\", \"x1\": \"220\", \"xref\": \"x\", \"y0\": \"-47.5\", \"y1\": \"92.5\", \"yref\": \"y\"}, {\"line\": {\"color\": \"#0a0a0a\", \"width\": 1}, \"path\": \"M -220 92.5 C -70 300, 70 300, 220 92.5\", \"type\": \"path\", \"xref\": \"x\", \"yref\": \"y\"}, {\"line\": {\"color\": \"#0a0a0a\", \"width\": 1}, \"type\": \"circle\", \"x0\": \"60\", \"x1\": \"-60\", \"xref\": \"x\", \"y0\": \"482.5\", \"y1\": \"362.5\", \"yref\": \"y\"}, {\"line\": {\"color\": \"#0a0a0a\", \"width\": 1}, \"type\": \"circle\", \"x0\": \"20\", \"x1\": \"-20\", \"xref\": \"x\", \"y0\": \"442.5\", \"y1\": \"402.5\", \"yref\": \"y\"}, {\"line\": {\"color\": \"#0a0a0a\", \"width\": 1}, \"type\": \"circle\", \"x0\": \"60\", \"x1\": \"-60\", \"xref\": \"x\", \"y0\": \"200\", \"y1\": \"80\", \"yref\": \"y\"}, {\"line\": {\"color\": \"#0a0a0a\", \"dash\": \"dot\", \"width\": 1}, \"type\": \"circle\", \"x0\": \"40\", \"x1\": \"-40\", \"xref\": \"x\", \"y0\": \"40\", \"y1\": \"-40\", \"yref\": \"y\"}], \"showlegend\": true, \"template\": {\"data\": {\"bar\": [{\"error_x\": {\"color\": \"#2a3f5f\"}, \"error_y\": {\"color\": \"#2a3f5f\"}, \"marker\": {\"line\": {\"color\": \"#E5ECF6\", \"width\": 0.5}}, \"type\": \"bar\"}], \"barpolar\": [{\"marker\": {\"line\": {\"color\": \"#E5ECF6\", \"width\": 0.5}}, \"type\": \"barpolar\"}], \"carpet\": [{\"aaxis\": {\"endlinecolor\": \"#2a3f5f\", \"gridcolor\": \"white\", \"linecolor\": \"white\", \"minorgridcolor\": \"white\", \"startlinecolor\": \"#2a3f5f\"}, \"baxis\": {\"endlinecolor\": \"#2a3f5f\", \"gridcolor\": \"white\", \"linecolor\": \"white\", \"minorgridcolor\": \"white\", \"startlinecolor\": \"#2a3f5f\"}, \"type\": \"carpet\"}], \"choropleth\": [{\"colorbar\": {\"outlinewidth\": 0, \"ticks\": \"\"}, \"type\": \"choropleth\"}], \"contour\": [{\"colorbar\": {\"outlinewidth\": 0, \"ticks\": \"\"}, \"colorscale\": [[0.0, \"#0d0887\"], [0.1111111111111111, \"#46039f\"], [0.2222222222222222, \"#7201a8\"], [0.3333333333333333, \"#9c179e\"], [0.4444444444444444, \"#bd3786\"], [0.5555555555555556, \"#d8576b\"], [0.6666666666666666, \"#ed7953\"], [0.7777777777777778, \"#fb9f3a\"], [0.8888888888888888, \"#fdca26\"], [1.0, \"#f0f921\"]], \"type\": \"contour\"}], \"contourcarpet\": [{\"colorbar\": {\"outlinewidth\": 0, \"ticks\": \"\"}, \"type\": \"contourcarpet\"}], \"heatmap\": [{\"colorbar\": {\"outlinewidth\": 0, \"ticks\": \"\"}, \"colorscale\": [[0.0, \"#0d0887\"], [0.1111111111111111, \"#46039f\"], [0.2222222222222222, \"#7201a8\"], [0.3333333333333333, \"#9c179e\"], [0.4444444444444444, \"#bd3786\"], [0.5555555555555556, \"#d8576b\"], [0.6666666666666666, \"#ed7953\"], [0.7777777777777778, \"#fb9f3a\"], [0.8888888888888888, \"#fdca26\"], [1.0, \"#f0f921\"]], \"type\": \"heatmap\"}], \"heatmapgl\": [{\"colorbar\": {\"outlinewidth\": 0, \"ticks\": \"\"}, \"colorscale\": [[0.0, \"#0d0887\"], [0.1111111111111111, \"#46039f\"], [0.2222222222222222, \"#7201a8\"], [0.3333333333333333, \"#9c179e\"], [0.4444444444444444, \"#bd3786\"], [0.5555555555555556, \"#d8576b\"], [0.6666666666666666, \"#ed7953\"], [0.7777777777777778, \"#fb9f3a\"], [0.8888888888888888, \"#fdca26\"], [1.0, \"#f0f921\"]], \"type\": \"heatmapgl\"}], \"histogram\": [{\"marker\": {\"colorbar\": {\"outlinewidth\": 0, \"ticks\": \"\"}}, \"type\": \"histogram\"}], \"histogram2d\": [{\"colorbar\": {\"outlinewidth\": 0, \"ticks\": \"\"}, \"colorscale\": [[0.0, \"#0d0887\"], [0.1111111111111111, \"#46039f\"], [0.2222222222222222, \"#7201a8\"], [0.3333333333333333, \"#9c179e\"], [0.4444444444444444, \"#bd3786\"], [0.5555555555555556, \"#d8576b\"], [0.6666666666666666, \"#ed7953\"], [0.7777777777777778, \"#fb9f3a\"], [0.8888888888888888, \"#fdca26\"], [1.0, \"#f0f921\"]], \"type\": \"histogram2d\"}], \"histogram2dcontour\": [{\"colorbar\": {\"outlinewidth\": 0, \"ticks\": \"\"}, \"colorscale\": [[0.0, \"#0d0887\"], [0.1111111111111111, \"#46039f\"], [0.2222222222222222, \"#7201a8\"], [0.3333333333333333, \"#9c179e\"], [0.4444444444444444, \"#bd3786\"], [0.5555555555555556, \"#d8576b\"], [0.6666666666666666, \"#ed7953\"], [0.7777777777777778, \"#fb9f3a\"], [0.8888888888888888, \"#fdca26\"], [1.0, \"#f0f921\"]], \"type\": \"histogram2dcontour\"}], \"mesh3d\": [{\"colorbar\": {\"outlinewidth\": 0, \"ticks\": \"\"}, \"type\": \"mesh3d\"}], \"parcoords\": [{\"line\": {\"colorbar\": {\"outlinewidth\": 0, \"ticks\": \"\"}}, \"type\": \"parcoords\"}], \"pie\": [{\"automargin\": true, \"type\": \"pie\"}], \"scatter\": [{\"marker\": {\"colorbar\": {\"outlinewidth\": 0, \"ticks\": \"\"}}, \"type\": \"scatter\"}], \"scatter3d\": [{\"line\": {\"colorbar\": {\"outlinewidth\": 0, \"ticks\": \"\"}}, \"marker\": {\"colorbar\": {\"outlinewidth\": 0, \"ticks\": \"\"}}, \"type\": \"scatter3d\"}], \"scattercarpet\": [{\"marker\": {\"colorbar\": {\"outlinewidth\": 0, \"ticks\": \"\"}}, \"type\": \"scattercarpet\"}], \"scattergeo\": [{\"marker\": {\"colorbar\": {\"outlinewidth\": 0, \"ticks\": \"\"}}, \"type\": \"scattergeo\"}], \"scattergl\": [{\"marker\": {\"colorbar\": {\"outlinewidth\": 0, \"ticks\": \"\"}}, \"type\": \"scattergl\"}], \"scattermapbox\": [{\"marker\": {\"colorbar\": {\"outlinewidth\": 0, \"ticks\": \"\"}}, \"type\": \"scattermapbox\"}], \"scatterpolar\": [{\"marker\": {\"colorbar\": {\"outlinewidth\": 0, \"ticks\": \"\"}}, \"type\": \"scatterpolar\"}], \"scatterpolargl\": [{\"marker\": {\"colorbar\": {\"outlinewidth\": 0, \"ticks\": \"\"}}, \"type\": \"scatterpolargl\"}], \"scatterternary\": [{\"marker\": {\"colorbar\": {\"outlinewidth\": 0, \"ticks\": \"\"}}, \"type\": \"scatterternary\"}], \"surface\": [{\"colorbar\": {\"outlinewidth\": 0, \"ticks\": \"\"}, \"colorscale\": [[0.0, \"#0d0887\"], [0.1111111111111111, \"#46039f\"], [0.2222222222222222, \"#7201a8\"], [0.3333333333333333, \"#9c179e\"], [0.4444444444444444, \"#bd3786\"], [0.5555555555555556, \"#d8576b\"], [0.6666666666666666, \"#ed7953\"], [0.7777777777777778, \"#fb9f3a\"], [0.8888888888888888, \"#fdca26\"], [1.0, \"#f0f921\"]], \"type\": \"surface\"}], \"table\": [{\"cells\": {\"fill\": {\"color\": \"#EBF0F8\"}, \"line\": {\"color\": \"white\"}}, \"header\": {\"fill\": {\"color\": \"#C8D4E3\"}, \"line\": {\"color\": \"white\"}}, \"type\": \"table\"}]}, \"layout\": {\"annotationdefaults\": {\"arrowcolor\": \"#2a3f5f\", \"arrowhead\": 0, \"arrowwidth\": 1}, \"autotypenumbers\": \"strict\", \"coloraxis\": {\"colorbar\": {\"outlinewidth\": 0, \"ticks\": \"\"}}, \"colorscale\": {\"diverging\": [[0, \"#8e0152\"], [0.1, \"#c51b7d\"], [0.2, \"#de77ae\"], [0.3, \"#f1b6da\"], [0.4, \"#fde0ef\"], [0.5, \"#f7f7f7\"], [0.6, \"#e6f5d0\"], [0.7, \"#b8e186\"], [0.8, \"#7fbc41\"], [0.9, \"#4d9221\"], [1, \"#276419\"]], \"sequential\": [[0.0, \"#0d0887\"], [0.1111111111111111, \"#46039f\"], [0.2222222222222222, \"#7201a8\"], [0.3333333333333333, \"#9c179e\"], [0.4444444444444444, \"#bd3786\"], [0.5555555555555556, \"#d8576b\"], [0.6666666666666666, \"#ed7953\"], [0.7777777777777778, \"#fb9f3a\"], [0.8888888888888888, \"#fdca26\"], [1.0, \"#f0f921\"]], \"sequentialminus\": [[0.0, \"#0d0887\"], [0.1111111111111111, \"#46039f\"], [0.2222222222222222, \"#7201a8\"], [0.3333333333333333, \"#9c179e\"], [0.4444444444444444, \"#bd3786\"], [0.5555555555555556, \"#d8576b\"], [0.6666666666666666, \"#ed7953\"], [0.7777777777777778, \"#fb9f3a\"], [0.8888888888888888, \"#fdca26\"], [1.0, \"#f0f921\"]]}, \"colorway\": [\"#636efa\", \"#EF553B\", \"#00cc96\", \"#ab63fa\", \"#FFA15A\", \"#19d3f3\", \"#FF6692\", \"#B6E880\", \"#FF97FF\", \"#FECB52\"], \"font\": {\"color\": \"#2a3f5f\"}, \"geo\": {\"bgcolor\": \"white\", \"lakecolor\": \"white\", \"landcolor\": \"#E5ECF6\", \"showlakes\": true, \"showland\": true, \"subunitcolor\": \"white\"}, \"hoverlabel\": {\"align\": \"left\"}, \"hovermode\": \"closest\", \"mapbox\": {\"style\": \"light\"}, \"paper_bgcolor\": \"white\", \"plot_bgcolor\": \"#E5ECF6\", \"polar\": {\"angularaxis\": {\"gridcolor\": \"white\", \"linecolor\": \"white\", \"ticks\": \"\"}, \"bgcolor\": \"#E5ECF6\", \"radialaxis\": {\"gridcolor\": \"white\", \"linecolor\": \"white\", \"ticks\": \"\"}}, \"scene\": {\"xaxis\": {\"backgroundcolor\": \"#E5ECF6\", \"gridcolor\": \"white\", \"gridwidth\": 2, \"linecolor\": \"white\", \"showbackground\": true, \"ticks\": \"\", \"zerolinecolor\": \"white\"}, \"yaxis\": {\"backgroundcolor\": \"#E5ECF6\", \"gridcolor\": \"white\", \"gridwidth\": 2, \"linecolor\": \"white\", \"showbackground\": true, \"ticks\": \"\", \"zerolinecolor\": \"white\"}, \"zaxis\": {\"backgroundcolor\": \"#E5ECF6\", \"gridcolor\": \"white\", \"gridwidth\": 2, \"linecolor\": \"white\", \"showbackground\": true, \"ticks\": \"\", \"zerolinecolor\": \"white\"}}, \"shapedefaults\": {\"line\": {\"color\": \"#2a3f5f\"}}, \"ternary\": {\"aaxis\": {\"gridcolor\": \"white\", \"linecolor\": \"white\", \"ticks\": \"\"}, \"baxis\": {\"gridcolor\": \"white\", \"linecolor\": \"white\", \"ticks\": \"\"}, \"bgcolor\": \"#E5ECF6\", \"caxis\": {\"gridcolor\": \"white\", \"linecolor\": \"white\", \"ticks\": \"\"}}, \"title\": {\"x\": 0.05}, \"xaxis\": {\"automargin\": true, \"gridcolor\": \"white\", \"linecolor\": \"white\", \"ticks\": \"\", \"title\": {\"standoff\": 15}, \"zerolinecolor\": \"white\", \"zerolinewidth\": 2}, \"yaxis\": {\"automargin\": true, \"gridcolor\": \"white\", \"linecolor\": \"white\", \"ticks\": \"\", \"title\": {\"standoff\": 15}, \"zerolinecolor\": \"white\", \"zerolinewidth\": 2}}}, \"title\": {\"text\": \"Shots by Kelly Oubre Jr. in NBA season 2020-2021\"}, \"width\": 650, \"xaxis\": {\"range\": [-300, 300], \"showgrid\": false}, \"yaxis\": {\"range\": [-100, 500], \"showgrid\": false}},                        {\"responsive\": true}                    ).then(function(){\n                            \nvar gd = document.getElementById('afa44095-6dc8-45f6-82ab-fec7394b0160');\nvar x = new MutationObserver(function (mutations, observer) {{\n        var display = window.getComputedStyle(gd).display;\n        if (!display || display === 'none') {{\n            console.log([gd, 'removed!']);\n            Plotly.purge(gd);\n            observer.disconnect();\n        }}\n}});\n\n// Listen for the removal of the full notebook cells\nvar notebookContainer = gd.closest('#notebook-container');\nif (notebookContainer) {{\n    x.observe(notebookContainer, {childList: true});\n}}\n\n// Listen for the clearing of the current output cell\nvar outputEl = gd.closest('.output');\nif (outputEl) {{\n    x.observe(outputEl, {childList: true});\n}}\n\n                        })                };                });            </script>        </div>"
     },
     "metadata": {}
    }
   ],
   "source": [
    "#Charting the shots \n",
    "\n",
    "made_shot_trace = go.Scatter(\n",
    "    x = fga_curry[fga_curry['SHOT_MADE_FLAG'] == 1]['LOC_X'],\n",
    "    y = fga_curry[fga_curry['SHOT_MADE_FLAG'] == 1]['LOC_Y'],\n",
    "    mode = 'markers',\n",
    "    name = 'Made Shot',\n",
    "    marker = dict(\n",
    "        size = 5,\n",
    "        color = \"#00ff00\", #'rgba(255, 255, 0, .8)',\n",
    "        line = dict(\n",
    "            width = 1,\n",
    "            color = 'rgb(0, 0, 0, 1)'\n",
    "        )\n",
    "    )\n",
    ")\n",
    "\n",
    "missed_shot_trace = go.Scatter(\n",
    "    x = fga_curry[fga_curry['SHOT_MADE_FLAG'] == 0]['LOC_X'],\n",
    "    y = fga_curry[fga_curry['SHOT_MADE_FLAG'] == 0]['LOC_Y'],\n",
    "    mode = 'markers',\n",
    "    name = 'Missed Shot',\n",
    "    marker = dict(\n",
    "        size = 5,\n",
    "        color = '#ff0000',#'rgba(255, 255, 0, .8)',\n",
    "        line = dict(\n",
    "            width = 1,\n",
    "            color = 'rgb(0, 0, 0, 1)'\n",
    "        )\n",
    "    )\n",
    ")\n",
    "\n",
    "\n",
    "data = [missed_shot_trace, made_shot_trace]\n",
    "\n",
    "layout = go.Layout(\n",
    "    title='Shots by Kelly Oubre Jr. in NBA season 2020-2021',\n",
    "    showlegend=True,\n",
    "    xaxis=dict(\n",
    "        showgrid=False,\n",
    "        range=[-300, 300]\n",
    "    ),\n",
    "    yaxis=dict(\n",
    "        showgrid=False,\n",
    "        range=[-100, 500]\n",
    "    ),\n",
    "    height=600,\n",
    "    width=650,\n",
    "    shapes=court_shapes\n",
    ")\n",
    "\n",
    "fig = go.Figure(data=data, layout=layout)\n",
    "iplot(fig)\n"
   ]
  },
  {
   "cell_type": "code",
   "execution_count": null,
   "metadata": {},
   "outputs": [],
   "source": []
  }
 ]
}